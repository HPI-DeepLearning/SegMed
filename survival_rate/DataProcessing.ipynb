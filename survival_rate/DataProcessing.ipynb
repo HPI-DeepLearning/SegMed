{
 "cells": [
  {
   "cell_type": "code",
   "execution_count": 3,
   "metadata": {},
   "outputs": [
    {
     "data": {
      "text/html": [
       "<div>\n",
       "<style>\n",
       "    .dataframe thead tr:only-child th {\n",
       "        text-align: right;\n",
       "    }\n",
       "\n",
       "    .dataframe thead th {\n",
       "        text-align: left;\n",
       "    }\n",
       "\n",
       "    .dataframe tbody tr th {\n",
       "        vertical-align: top;\n",
       "    }\n",
       "</style>\n",
       "<table border=\"1\" class=\"dataframe\">\n",
       "  <thead>\n",
       "    <tr style=\"text-align: right;\">\n",
       "      <th></th>\n",
       "      <th>Brats17ID</th>\n",
       "      <th>Age</th>\n",
       "      <th>Survival</th>\n",
       "    </tr>\n",
       "  </thead>\n",
       "  <tbody>\n",
       "    <tr>\n",
       "      <th>0</th>\n",
       "      <td>Brats17_TCIA_167_1</td>\n",
       "      <td>74.907</td>\n",
       "      <td>153</td>\n",
       "    </tr>\n",
       "    <tr>\n",
       "      <th>1</th>\n",
       "      <td>Brats17_TCIA_242_1</td>\n",
       "      <td>66.479</td>\n",
       "      <td>147</td>\n",
       "    </tr>\n",
       "    <tr>\n",
       "      <th>2</th>\n",
       "      <td>Brats17_TCIA_319_1</td>\n",
       "      <td>64.860</td>\n",
       "      <td>254</td>\n",
       "    </tr>\n",
       "    <tr>\n",
       "      <th>3</th>\n",
       "      <td>Brats17_TCIA_469_1</td>\n",
       "      <td>63.899</td>\n",
       "      <td>519</td>\n",
       "    </tr>\n",
       "    <tr>\n",
       "      <th>4</th>\n",
       "      <td>Brats17_TCIA_218_1</td>\n",
       "      <td>57.345</td>\n",
       "      <td>346</td>\n",
       "    </tr>\n",
       "  </tbody>\n",
       "</table>\n",
       "</div>"
      ],
      "text/plain": [
       "            Brats17ID     Age  Survival\n",
       "0  Brats17_TCIA_167_1  74.907       153\n",
       "1  Brats17_TCIA_242_1  66.479       147\n",
       "2  Brats17_TCIA_319_1  64.860       254\n",
       "3  Brats17_TCIA_469_1  63.899       519\n",
       "4  Brats17_TCIA_218_1  57.345       346"
      ]
     },
     "execution_count": 3,
     "metadata": {},
     "output_type": "execute_result"
    }
   ],
   "source": [
    "from data_loading import load_tumors\n",
    "import glob\n",
    "import pandas as pd\n",
    "import numpy as np\n",
    "from PIL import Image\n",
    "from tqdm import tqdm\n",
    "from matplotlib import pyplot as plt\n",
    "%matplotlib inline\n",
    "\n",
    "GT_IMAGES_PATH = '/mnt/naruto/Seminar-Med-Seg2017/BRATS2017/HGG/Png-HGG/'\n",
    "# Get results from directory when we stop woring on ground truth and know how to assign those images to our data\n",
    "GAN_OUTPUT = '/mnt/naruto/Seminar-Med-Seg2017/SegMed/ultra/SegMed/pix2pix-ultimate/test-x/'\n",
    "IMAGE_HEIGHT, IMAGE_WIDTH = 240, 240\n",
    "TUMOR_IMAGES = 155\n",
    "\n",
    "survivals = pd.read_csv(\"data/survival_data.csv\")\n",
    "survivals.head()"
   ]
  },
  {
   "cell_type": "code",
   "execution_count": 4,
   "metadata": {
    "collapsed": true
   },
   "outputs": [],
   "source": [
    "def get_patient_images(paths, patient):\n",
    "    # patient = np.zeros((IMAGE_HEIGHT, IMAGE_WIDTH, TUMOR_IMAGES, 3))\n",
    "    region_values = [211, 105, 240]\n",
    "    for i in range(len(paths)):\n",
    "        img = Image.open(paths[i]).convert('LA')\n",
    "        img = np.asarray(img, dtype=np.uint8)[:, :, 0]\n",
    "        for j in range(3):\n",
    "            # The bottom layer contains the others and so on\n",
    "            for layer in region_values[j:]:\n",
    "                patient[i, j, :, :][img == layer] = 1\n",
    "    return patient\n",
    "\n",
    "def generate_testing_data(axis='z'):\n",
    "    # x has shape (155, 240) -> use z for testing\n",
    "    X = np.zeros((len(survivals), TUMOR_IMAGES, 3, IMAGE_HEIGHT, IMAGE_WIDTH), dtype=np.uint8)\n",
    "    for index, row in tqdm(survivals.iterrows(), total=len(survivals)):\n",
    "        # For every patient, fetch his tumor pictures and sort them properly\n",
    "        glob_path = \"{}{}_{}*n{}*.png\".format(GT_IMAGES_PATH, row['Brats17ID'], 'seg', axis)\n",
    "        tumor_images = glob.glob(glob_path)\n",
    "        tumor_images.sort(key=lambda x : int(x.split('.')[-2]))\n",
    "        # Convert every tumor image to greyscale and add it to X\n",
    "        X[index, :, :, :, :] = get_patient_images(tumor_images, X[index, :, :, :, :])\n",
    "    print('Resulting dataset has the shape: {}'.format(X.shape))\n",
    "    np.save('data/tumors_n{}'.format(axis), X)\n",
    "    return X"
   ]
  },
  {
   "cell_type": "code",
   "execution_count": 5,
   "metadata": {
    "scrolled": true
   },
   "outputs": [
    {
     "name": "stderr",
     "output_type": "stream",
     "text": [
      "100%|██████████| 163/163 [03:54<00:00,  1.43s/it]\n"
     ]
    },
    {
     "name": "stdout",
     "output_type": "stream",
     "text": [
      "Resulting dataset has the shape: (163, 155, 3, 240, 240)\n"
     ]
    }
   ],
   "source": [
    "X = generate_testing_data()"
   ]
  }
 ],
 "metadata": {
  "kernelspec": {
   "display_name": "Python 2",
   "language": "python",
   "name": "python2"
  },
  "language_info": {
   "codemirror_mode": {
    "name": "ipython",
    "version": 2
   },
   "file_extension": ".py",
   "mimetype": "text/x-python",
   "name": "python",
   "nbconvert_exporter": "python",
   "pygments_lexer": "ipython2",
   "version": "2.7.12"
  }
 },
 "nbformat": 4,
 "nbformat_minor": 2
}
