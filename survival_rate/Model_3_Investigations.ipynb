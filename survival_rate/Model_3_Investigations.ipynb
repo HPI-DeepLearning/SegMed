{
 "cells": [
  {
   "cell_type": "code",
   "execution_count": 502,
   "metadata": {
    "scrolled": true
   },
   "outputs": [],
   "source": [
    "import matplotlib.pyplot as plt\n",
    "%matplotlib inline\n",
    "import pandas as pd\n",
    "import numpy as np\n",
    "import keras\n",
    "from keras import backend as K\n",
    "from keras.layers import Input, Embedding, LSTM, Dense, Conv2D\n",
    "from keras.models import Sequential, Model\n",
    "from keras.layers import Dense, Dropout, Activation, Flatten, Concatenate\n",
    "from keras.layers import Conv3D, MaxPooling3D, Conv2D, MaxPooling2D\n",
    "from keras.losses import categorical_crossentropy\n",
    "from keras.layers.advanced_activations import PReLU, LeakyReLU\n",
    "from keras.optimizers import Adadelta, Nadam, Adam\n",
    "from sklearn.model_selection import StratifiedKFold\n",
    "import tensorflow as tf\n",
    "from tensorflow.python.client import device_lib\n",
    "import utils\n",
    "import imp\n",
    "imp.reload(utils)\n",
    "\n",
    "IMAGE_HEIGHT, IMAGE_WIDTH = 120, 120\n",
    "AGE_CLASSES = 100\n",
    "MAX_SURVIVAL = 2000\n",
    "CLASSIFICATION = False\n",
    "SURVIVAL_GROUPS = 4\n",
    "MAX_SLICES = 10"
   ]
  },
  {
   "cell_type": "markdown",
   "metadata": {},
   "source": [
    "## Load data"
   ]
  },
  {
   "cell_type": "code",
   "execution_count": 211,
   "metadata": {
    "collapsed": true
   },
   "outputs": [],
   "source": [
    "df = pd.read_csv(\"data/survival_data.csv\")\n",
    "df.head()\n",
    "orig_X = np.load('data/tumors_small_nz.npy')\n",
    "orig_X = orig_X.transpose((0, 2, 1, 3, 4))\n",
    "X = orig_X\n",
    "\n",
    "if CLASSIFICATION:\n",
    "    Y = utils.as_classes(df['Survival'], SURVIVAL_GROUPS)\n",
    "else:\n",
    "    Y = df['Survival']\n",
    "df['TumorSum'] = X[:, :3].sum(axis=(1, 2, 3, 4))\n",
    "df['TumorSum1'] = X[:, 0:1].sum(axis=(1, 2, 3, 4))\n",
    "df['TumorSum2'] = X[:, 1:2].sum(axis=(1, 2, 3, 4))\n",
    "df['TumorSum3'] = X[:, 2:3].sum(axis=(1, 2, 3, 4))\n",
    "df['BrainSum'] = X[:, 3:].sum(axis=(1, 2, 3, 4))"
   ]
  },
  {
   "cell_type": "code",
   "execution_count": 153,
   "metadata": {
    "collapsed": true
   },
   "outputs": [],
   "source": [
    "def get_slices_range(patient, min_=1000):\n",
    "    pixels = patient[0].sum(axis=(1, 2))\n",
    "    start = next(i for i, val in enumerate(pixels) if val >= min_)\n",
    "    end = next(i for i, val in reversed(list(enumerate(pixels))) if val >= min_)\n",
    "    return start, end\n",
    "\n",
    "slices_ranges = [get_slices_range(patient) for patient in orig_X]\n",
    "min_range = min((end - start for start, end in slices_ranges))\n",
    "max_range = max((end - start for start, end in slices_ranges))"
   ]
  },
  {
   "cell_type": "markdown",
   "metadata": {},
   "source": [
    "## Downsampling Slices"
   ]
  },
  {
   "cell_type": "code",
   "execution_count": null,
   "metadata": {
    "collapsed": true,
    "scrolled": true
   },
   "outputs": [],
   "source": [
    "# Select `min_range` slices for each patient (middle of tumor slices)\n",
    "downsampled_ix = ((end + start)//2 for start, end in slices_ranges)\n",
    "downsampled_ix = ((middle - min_range//2, middle + min_range//2) for middle in downsampled_ix)\n",
    "downsampled = np.array([orig_X[i, :, start:end] for (i, (start, end)) in enumerate(downsampled_ix)])\n",
    "X = downsampled"
   ]
  },
  {
   "cell_type": "markdown",
   "metadata": {},
   "source": [
    "## Upsampling Slices"
   ]
  },
  {
   "cell_type": "code",
   "execution_count": 222,
   "metadata": {
    "collapsed": true
   },
   "outputs": [],
   "source": [
    "# Repeat tumor until `max_range` reached\n",
    "upsampled = []\n",
    "for i, (start, end) in enumerate(slices_ranges):\n",
    "    sampling = []\n",
    "    j = 0\n",
    "    while j < max_range:\n",
    "        for k in range(start, end+1):\n",
    "            if j < max_range:\n",
    "                sampling.append(orig_X[i, :, k:k+1])\n",
    "                j += 1\n",
    "    upsampled.append(np.concatenate(sampling, axis=1))\n",
    "upsampled = np.array(upsampled)\n",
    "X = upsampled"
   ]
  },
  {
   "cell_type": "markdown",
   "metadata": {},
   "source": [
    "## Tumor 2D\n",
    "\n",
    "One pixel contains the sum of slices containing tumor at this position"
   ]
  },
  {
   "cell_type": "code",
   "execution_count": 223,
   "metadata": {
    "collapsed": true
   },
   "outputs": [],
   "source": [
    "tumor2D = orig_X[:, :, :, :, :].sum(axis=2)\n",
    "X = tumor2D"
   ]
  },
  {
   "cell_type": "code",
   "execution_count": null,
   "metadata": {
    "collapsed": true
   },
   "outputs": [],
   "source": [
    "# Example how this will look in the end, the values are between 0 and 16000\n",
    "fig, axes = plt.subplots(1, 4, figsize=(16, 4))\n",
    "for i, ax in enumerate(axes.flat):\n",
    "    ax.imshow(orig_X[10, i, :, :, :].sum(axis=0))\n",
    "    ax.set_title('Patient 10, Tumor region {}'.format(i))\n",
    "axes[-1].set_title('Patient 10, Brain modality #1')\n",
    "fig.savefig('analysis/tumor_2d.jpg')"
   ]
  },
  {
   "cell_type": "markdown",
   "metadata": {},
   "source": [
    "## Prepare data"
   ]
  },
  {
   "cell_type": "code",
   "execution_count": 224,
   "metadata": {
    "collapsed": true
   },
   "outputs": [],
   "source": [
    "def get_splitted_data(X, ages, labels):\n",
    "    assert len(X) == len(labels) == len(ages)\n",
    "    # OneHotEncoding for ages\n",
    "    enc_table = np.eye(AGE_CLASSES)\n",
    "    ages_ohe = np.array([enc_table[int(round(x))] for x in ages])\n",
    "    if not CLASSIFICATION:\n",
    "        # Normalize labels\n",
    "        labels /= MAX_SURVIVAL\n",
    "    # Split data into: 70% train, 15% test, 15% validation\n",
    "    # cuts = [int(.70*len(X)), int(.85*len(X))]\n",
    "    # Use all data for training and testing:\n",
    "    cuts = [int(.9*len(X)), int(1*len(X))]\n",
    "    X1_train, X1_test, X1_val = np.split(X, cuts)\n",
    "    X2_train, X2_test, X2_val = np.split(ages_ohe, cuts)\n",
    "    Y_train, Y_test, Y_val = np.split(labels, cuts)\n",
    "    return X1_train, X2_train, Y_train, X1_test, X2_test, Y_test, X1_val, X2_val, Y_val\n",
    "\n",
    "X1_train, X2_train, Y_train, X1_test, X2_test, Y_test, X1_val, X2_val, Y_val = get_splitted_data(\n",
    "    X, df['Age'], Y)"
   ]
  },
  {
   "cell_type": "markdown",
   "metadata": {},
   "source": [
    "## Data Analysis"
   ]
  },
  {
   "cell_type": "code",
   "execution_count": null,
   "metadata": {
    "collapsed": true,
    "scrolled": true
   },
   "outputs": [],
   "source": [
    "imp.reload(utils)\n",
    "utils.plot_tumor_position(X)\n",
    "utils.plot_pixels_vs_survival(**locals())\n",
    "utils.plot_age_vs_survival(**locals())\n",
    "utils.plot_corr(df, 10)\n",
    "df.corr()"
   ]
  },
  {
   "cell_type": "markdown",
   "metadata": {},
   "source": [
    "## Run model"
   ]
  },
  {
   "cell_type": "markdown",
   "metadata": {},
   "source": [
    "##### TODO:\n",
    "1. Increase Learning rate\n",
    "2. Increase Drop out\n",
    "3. Only use tumor image slices\n",
    "    a. Upsampling -> sample small tumors\n",
    "    b. Downsampling -> select amount of slices so that it gets only tumor images for each patient\n",
    "4. Only use one tumor slice\n",
    "5. One tumor image containing the number of tumor pixels overall slices"
   ]
  },
  {
   "cell_type": "code",
   "execution_count": 645,
   "metadata": {
    "collapsed": true,
    "scrolled": false
   },
   "outputs": [],
   "source": [
    "def mse(y_true, y_pred):\n",
    "    return K.mean(K.square(y_pred*MAX_SURVIVAL - y_true*MAX_SURVIVAL), axis=-1)\n",
    "\n",
    "def build_model():\n",
    "    main_input = Input(shape=X1_test.shape[1:], dtype='float32', name='main_input')\n",
    "    if len(X.shape) == 5:\n",
    "        x = Conv3D(8, (5, 5, 5), padding='same', activation='relu', data_format='channels_first')(main_input)\n",
    "        x = MaxPooling3D(pool_size=(4, 4, 4))(x)\n",
    "        x = Dropout(0.25)(x)\n",
    "        x = Conv3D(8, (3, 3, 3), padding='same', activation='relu', data_format='channels_first')(x)\n",
    "        x = MaxPooling3D(pool_size=(4, 4, 4))(x)\n",
    "        x = Dropout(0.15)(x)\n",
    "    else:\n",
    "        x = Conv2D(32, (5, 5), padding='same', data_format='channels_first')(main_input)\n",
    "        x = MaxPooling2D(pool_size=(4, 4))(x)\n",
    "        x = Activation(LeakyReLU())(x)\n",
    "        x = Dropout(0.5)(x)\n",
    "        x = Conv2D(64, (3, 3), padding='same', data_format='channels_first')(x)\n",
    "        x = MaxPooling2D(pool_size=(4, 4))(x)\n",
    "        x = Activation(PReLU())(x)\n",
    "        x = Dropout(0.5)(x)\n",
    "\n",
    "    x = Dense(128, activation='tanh')(x)\n",
    "    cnn_out = Flatten()(x)\n",
    "    x = Dense(64, activation='sigmoid')(x)\n",
    "    auxiliary_output = Dense(1, activation='sigmoid', name='aux_output')(cnn_out)\n",
    "\n",
    "    auxiliary_input = Input(shape=(AGE_CLASSES,), name='aux_input', dtype='float32')\n",
    "    x = Dense(AGE_CLASSES//2, activation='tanh')(auxiliary_input)\n",
    "    x = Dropout(0.3)(x)\n",
    "    x = keras.layers.concatenate([cnn_out, x])\n",
    "    x = Dense(128, activation='tanh')(x)\n",
    "    x = Dense(128, activation='sigmoid')(x)\n",
    "    main_output = Dense(1, dtype='float32', activation='sigmoid', name='main_output')(x)\n",
    "    model = Model(inputs=[main_input, auxiliary_input], outputs=[main_output, auxiliary_output])\n",
    "    optimizer = Adam(lr=0.001)\n",
    "    model.compile(optimizer=optimizer, metrics=[mse],\n",
    "                  loss={'main_output': 'mean_squared_error', 'aux_output': 'mean_squared_error'},\n",
    "                  loss_weights={'main_output': 1, 'aux_output': 0})\n",
    "    return model"
   ]
  },
  {
   "cell_type": "code",
   "execution_count": 646,
   "metadata": {
    "scrolled": true
   },
   "outputs": [
    {
     "name": "stdout",
     "output_type": "stream",
     "text": [
      "Train on 146 samples, validate on 17 samples\n",
      "Epoch 1/20\n",
      "146/146 [==============================] - 12s - loss: 0.0602 - main_output_loss: 0.0602 - aux_output_loss: 0.0766 - main_output_mse: 240787.4293 - aux_output_mse: 306501.0771 - val_loss: 0.0518 - val_main_output_loss: 0.0518 - val_aux_output_loss: 0.0293 - val_main_output_mse: 207347.7812 - val_aux_output_mse: 117355.3125\n",
      "Epoch 2/20\n",
      "146/146 [==============================] - 4s - loss: 0.0362 - main_output_loss: 0.0362 - aux_output_loss: 0.0833 - main_output_mse: 144908.6993 - aux_output_mse: 333120.2256 - val_loss: 0.0205 - val_main_output_loss: 0.0205 - val_aux_output_loss: 0.0333 - val_main_output_mse: 81965.3750 - val_aux_output_mse: 133350.4062\n",
      "Epoch 3/20\n",
      "146/146 [==============================] - 4s - loss: 0.0377 - main_output_loss: 0.0377 - aux_output_loss: 0.0761 - main_output_mse: 150741.6351 - aux_output_mse: 304529.1391 - val_loss: 0.0239 - val_main_output_loss: 0.0239 - val_aux_output_loss: 0.0412 - val_main_output_mse: 95484.3281 - val_aux_output_mse: 164929.8750\n",
      "Epoch 4/20\n",
      "146/146 [==============================] - 4s - loss: 0.0323 - main_output_loss: 0.0323 - aux_output_loss: 0.0707 - main_output_mse: 129232.5899 - aux_output_mse: 282716.1494 - val_loss: 0.0408 - val_main_output_loss: 0.0408 - val_aux_output_loss: 0.0380 - val_main_output_mse: 163330.1250 - val_aux_output_mse: 151891.5781\n",
      "Epoch 5/20\n",
      "146/146 [==============================] - 4s - loss: 0.0363 - main_output_loss: 0.0363 - aux_output_loss: 0.0865 - main_output_mse: 145217.2748 - aux_output_mse: 345822.0771 - val_loss: 0.0338 - val_main_output_loss: 0.0338 - val_aux_output_loss: 0.0360 - val_main_output_mse: 135315.9688 - val_aux_output_mse: 144131.0312\n",
      "Epoch 6/20\n",
      "146/146 [==============================] - 4s - loss: 0.0327 - main_output_loss: 0.0327 - aux_output_loss: 0.0873 - main_output_mse: 130601.6531 - aux_output_mse: 349213.6190 - val_loss: 0.0219 - val_main_output_loss: 0.0219 - val_aux_output_loss: 0.0350 - val_main_output_mse: 87468.1250 - val_aux_output_mse: 139838.3438\n",
      "Epoch 7/20\n",
      "146/146 [==============================] - 4s - loss: 0.0323 - main_output_loss: 0.0323 - aux_output_loss: 0.0907 - main_output_mse: 129202.4780 - aux_output_mse: 362698.5300 - val_loss: 0.0236 - val_main_output_loss: 0.0236 - val_aux_output_loss: 0.0357 - val_main_output_mse: 94304.5547 - val_aux_output_mse: 142924.1875\n",
      "Epoch 8/20\n",
      "146/146 [==============================] - 4s - loss: 0.0311 - main_output_loss: 0.0311 - aux_output_loss: 0.0867 - main_output_mse: 124350.4213 - aux_output_mse: 346736.3750 - val_loss: 0.0284 - val_main_output_loss: 0.0284 - val_aux_output_loss: 0.0341 - val_main_output_mse: 113747.3594 - val_aux_output_mse: 136506.3750\n",
      "Epoch 9/20\n",
      "146/146 [==============================] - 4s - loss: 0.0316 - main_output_loss: 0.0316 - aux_output_loss: 0.0882 - main_output_mse: 126502.9525 - aux_output_mse: 352890.7474 - val_loss: 0.0273 - val_main_output_loss: 0.0273 - val_aux_output_loss: 0.0338 - val_main_output_mse: 109368.3828 - val_aux_output_mse: 135287.1250\n",
      "Epoch 10/20\n",
      "146/146 [==============================] - 4s - loss: 0.0310 - main_output_loss: 0.0310 - aux_output_loss: 0.0884 - main_output_mse: 123884.5013 - aux_output_mse: 353496.1250 - val_loss: 0.0238 - val_main_output_loss: 0.0238 - val_aux_output_loss: 0.0337 - val_main_output_mse: 95263.3906 - val_aux_output_mse: 134938.3281\n",
      "Epoch 11/20\n",
      "146/146 [==============================] - 4s - loss: 0.0317 - main_output_loss: 0.0317 - aux_output_loss: 0.0837 - main_output_mse: 126941.9921 - aux_output_mse: 334971.0929 - val_loss: 0.0235 - val_main_output_loss: 0.0235 - val_aux_output_loss: 0.0335 - val_main_output_mse: 94167.9844 - val_aux_output_mse: 133805.7344\n",
      "Epoch 12/20\n",
      "146/146 [==============================] - 4s - loss: 0.0314 - main_output_loss: 0.0314 - aux_output_loss: 0.0819 - main_output_mse: 125792.5006 - aux_output_mse: 327639.4932 - val_loss: 0.0274 - val_main_output_loss: 0.0274 - val_aux_output_loss: 0.0334 - val_main_output_mse: 109568.1875 - val_aux_output_mse: 133699.3594\n",
      "Epoch 13/20\n",
      "146/146 [==============================] - 4s - loss: 0.0316 - main_output_loss: 0.0316 - aux_output_loss: 0.0798 - main_output_mse: 126280.3947 - aux_output_mse: 319390.9000 - val_loss: 0.0243 - val_main_output_loss: 0.0243 - val_aux_output_loss: 0.0335 - val_main_output_mse: 97306.3203 - val_aux_output_mse: 134033.2656\n",
      "Epoch 14/20\n",
      "146/146 [==============================] - 4s - loss: 0.0311 - main_output_loss: 0.0311 - aux_output_loss: 0.0860 - main_output_mse: 124510.3035 - aux_output_mse: 344049.1575 - val_loss: 0.0263 - val_main_output_loss: 0.0263 - val_aux_output_loss: 0.0337 - val_main_output_mse: 105343.9375 - val_aux_output_mse: 134683.3906\n",
      "Epoch 15/20\n",
      "146/146 [==============================] - 4s - loss: 0.0311 - main_output_loss: 0.0311 - aux_output_loss: 0.0900 - main_output_mse: 124499.5695 - aux_output_mse: 360140.2997 - val_loss: 0.0257 - val_main_output_loss: 0.0257 - val_aux_output_loss: 0.0338 - val_main_output_mse: 102943.6562 - val_aux_output_mse: 135112.9219\n",
      "Epoch 16/20\n",
      "146/146 [==============================] - 4s - loss: 0.0312 - main_output_loss: 0.0312 - aux_output_loss: 0.0967 - main_output_mse: 124789.5394 - aux_output_mse: 386895.5368 - val_loss: 0.0252 - val_main_output_loss: 0.0252 - val_aux_output_loss: 0.0338 - val_main_output_mse: 100984.7031 - val_aux_output_mse: 135297.2031\n",
      "Epoch 17/20\n",
      "146/146 [==============================] - 4s - loss: 0.0311 - main_output_loss: 0.0311 - aux_output_loss: 0.0981 - main_output_mse: 124464.6723 - aux_output_mse: 392469.5360 - val_loss: 0.0257 - val_main_output_loss: 0.0257 - val_aux_output_loss: 0.0338 - val_main_output_mse: 102854.7500 - val_aux_output_mse: 135326.2969\n",
      "Epoch 18/20\n",
      "146/146 [==============================] - 4s - loss: 0.0312 - main_output_loss: 0.0312 - aux_output_loss: 0.0728 - main_output_mse: 124620.7420 - aux_output_mse: 291165.4174 - val_loss: 0.0247 - val_main_output_loss: 0.0247 - val_aux_output_loss: 0.0338 - val_main_output_mse: 98857.2891 - val_aux_output_mse: 135324.7031\n",
      "Epoch 19/20\n",
      "146/146 [==============================] - 4s - loss: 0.0311 - main_output_loss: 0.0311 - aux_output_loss: 0.0825 - main_output_mse: 124566.1361 - aux_output_mse: 329883.8005 - val_loss: 0.0256 - val_main_output_loss: 0.0256 - val_aux_output_loss: 0.0338 - val_main_output_mse: 102513.5703 - val_aux_output_mse: 135319.1094\n",
      "Epoch 20/20\n",
      "146/146 [==============================] - 4s - loss: 0.0312 - main_output_loss: 0.0312 - aux_output_loss: 0.0810 - main_output_mse: 124924.9216 - aux_output_mse: 324164.3581 - val_loss: 0.0275 - val_main_output_loss: 0.0275 - val_aux_output_loss: 0.0338 - val_main_output_mse: 109959.0391 - val_aux_output_mse: 135314.3438\n"
     ]
    }
   ],
   "source": [
    "def train_model(train, test, epochs=20, verbose=1, batch_size=32):\n",
    "    input1_train, input2_train, output_train = train\n",
    "    input1_test, input2_test, output_test = test\n",
    "    with tf.device('/gpu:0'):\n",
    "        model = build_model()\n",
    "        history = keras.callbacks.History()\n",
    "        try:\n",
    "            model_results = model.fit(\n",
    "                {'main_input': input1_train, 'aux_input': input2_train},\n",
    "                {'main_output': output_train, 'aux_output': output_train},\n",
    "                epochs=epochs, batch_size=batch_size, verbose=verbose,\n",
    "                validation_data=({'main_input': input1_test, 'aux_input': input2_test},\n",
    "                                 {'main_output': output_test, 'aux_output': output_test}),\n",
    "                callbacks=[history])\n",
    "        except KeyboardInterrupt:\n",
    "            model_results = None\n",
    "            pass\n",
    "    return model, model_results\n",
    "\n",
    "model, model_results = train_model((X1_train, X2_train, Y_train), (X1_test, X2_test, Y_test))"
   ]
  },
  {
   "cell_type": "code",
   "execution_count": 651,
   "metadata": {
    "scrolled": true
   },
   "outputs": [
    {
     "name": "stdout",
     "output_type": "stream",
     "text": [
      "('Test mse:', 109959.0390625)\n",
      "Predictions on training set: \n",
      "[ 379.]\n",
      "[  104.   114.   130.   131.   132.   140.   154.   164.   165.   182.\n",
      "   199.   203.   208.   217.   226.   228.   234.   237.   241.   247.\n",
      "   249.   253.   256.   259.   260.   261.   262.   263.   264.   269.\n",
      "   276.   278.   285.   288.   299.   304.   314.   324.   328.   332.\n",
      "   337.   341.   346.   347.   350.   352.   354.   357.   359.   362.\n",
      "   373.   377.   380.   389.   395.   399.   401.   406.   409.   415.\n",
      "   417.   418.   422.   426.   427.   429.   430.   431.   435.   445.\n",
      "   446.   447.   450.   453.   454.   457.   459.   461.   463.   466.\n",
      "   472.   476.   478.   482.   483.   487.   501.   504.   506.   509.\n",
      "   510.   513.   517.   518.   526.   527.   528.   535.   538.   547.\n",
      "   556.   560.   563.   569.   598.   605.   620.   623.   626.   646.\n",
      "   647.   650.   653.   666.   674.   688.   729.   733.   755.   763.\n",
      "   804.   810.   818.   821.   889.  1021.  1029.]\n"
     ]
    },
    {
     "data": {
      "image/png": "[encoded data removed]",
      "text/plain": [
       "<matplotlib.figure.Figure at 0x7f67e304b550>"
      ]
     },
     "metadata": {},
     "output_type": "display_data"
    }
   ],
   "source": [
    "imp.reload(utils)\n",
    "# Evaluate model on validation set\n",
    "val_score = model.evaluate({'main_input': X1_test, 'aux_input': X2_test},\n",
    "                                           {'main_output': Y_test, 'aux_output': Y_test}, verbose=0)\n",
    "print('Test mse:', val_score[-2])\n",
    "utils.plot_history(model_results, filename=None)  # 'analysis/model_history.jpg')\n",
    "\n",
    "utils.plot_model(model, 'analysis/model.jpg')\n",
    "print('Predictions on training set: ')\n",
    "predicted = model.predict({'main_input': X1_train, 'aux_input': X2_train})\n",
    "print(np.unique(np.round(np.array(predicted)[0, :, 0] * MAX_SURVIVAL)))\n",
    "print(np.unique(np.round(np.array(predicted)[1, :, 0] * MAX_SURVIVAL)))"
   ]
  },
  {
   "cell_type": "markdown",
   "metadata": {},
   "source": [
    "- 2 Conv(32[5x5x5], 64[3x3x3x]), 3 version (only tumor regions) -> Get's stuck at \"loss: 0.0798 - val_loss: 0.0534\"\n",
    "- Increase/Add dropout before and after the concatenation -> The same\n",
    "- Add conv layer (16, 32, 64) -> Get's stuck at \"loss: 0.6524 - val_loss: 0.6997\"\n",
    "- Use 7 versions (includes modalities) -> The same\n",
    "- Use Downsampling or Tumor2D -> Gets stuck at \"loss: 0.0798 - val_loss: 0.0534\"\n",
    "- Switch from Adam to Nadam optimizer -> The same (Nadam changes between first and second epoch)\n",
    "- Again Adam, Adding auxiliary output -> Epoch 1: \"loss: 0.4143 - val_loss: 0.3765\" -> at epoch 6 gets stuck at \"loss (both): 0.0798 val_loss(both): 0.0534\" (stop after 12 epochs)\n",
    "- Add manual Adam, Again use Tumor2D -> Epoch 1: \"loss: 0.3889 - val_loss: 0.3765\" -> gets stuck after second epoch (loss: 0.3661, val_loss as in epoch 1)\n",
    "- Switch back to 'Adam' -> Gets stuck at \"loss: 0.0798\"\n",
    "- Try out different hyperparameters for Adam doesn't improve the results\n",
    "- Nadam -> Again \"loss: 0.0798\"\n",
    "- Rmsprop -> Gets stuck after increasing loss at epoch 3: \"loss: 0.3661\n",
    "- Adadelta -> Gets stuck at \"loss: 0.6524\"\n",
    "- Stay at Adam, Increase/Decrease Dropout, Add Layers, Change order -> Best results still: \"loss: 0.0798\"\n",
    "- Upsampling: \"loss: 0.0798 - val_loss: 0.0534, main_output_mse: 319091.6469, val_main_output_mse: 213686.8281\" (stuck after second epoch)"
   ]
  },
  {
   "cell_type": "code",
   "execution_count": null,
   "metadata": {
    "scrolled": true
   },
   "outputs": [
    {
     "name": "stdout",
     "output_type": "stream",
     "text": [
      "Train model...\n",
      "[0.034528233110904694, 0.034528233110904694, 0.095063053071498871, 138112.9375, 380252.21875]\n",
      "Updated best model\n",
      "Test MSE in run 0: 138112.9375\n",
      "Unique predicted values: 458.0\n",
      "Train model...\n",
      "[0.019342562183737755, 0.019342562183737755, 0.25852763652801514, 77370.2578125, 1034110.4375]\n",
      "Updated best model\n",
      "Test MSE in run 1: 77370.2578125\n",
      "Unique predicted values: 417.0\n",
      "Train model...\n",
      "[0.043294474482536316, 0.043294474482536316, 0.31938618421554565, 173177.90625, 1277544.75]\n",
      "Test MSE in run 2: 173177.90625\n",
      "Unique predicted values: 440.0\n",
      "Train model...\n"
     ]
    }
   ],
   "source": [
    "# N-fold cross validation\n",
    "# 1.) http://machinelearningmastery.com/evaluate-performance-deep-learning-models-keras/\n",
    "# 2.) https://datascience.stackexchange.com/questions/11747/cross-validation-in-keras\n",
    "results = []\n",
    "best_model = None\n",
    "best_value = 150000\n",
    "def n_fold_cross_validation(folds=10):\n",
    "    global best_model, best_value\n",
    "    step = float(X.shape[0]) / folds\n",
    "    enc_table = np.eye(AGE_CLASSES)\n",
    "    ages_ohe = np.array([enc_table[int(round(x))] for x in df['Age']])\n",
    "    # Normalize labels\n",
    "    labels = df['Survival'] / MAX_SURVIVAL\n",
    "    for i in range(folds):\n",
    "        cuts = [int(step*i), int(step*(i+1))]\n",
    "        X1_train_front, X1_test, X1_train_back = np.split(X, cuts)\n",
    "        X2_train_front, X2_test, X2_train_back = np.split(ages_ohe, cuts)\n",
    "        Y_train_front, Y_test, Y_train_back = np.split(labels, cuts)\n",
    "        X1_train = np.concatenate([X1_train_front, X1_train_back])\n",
    "        X2_train = np.concatenate([X2_train_front, X2_train_back])\n",
    "        Y_train = np.concatenate([Y_train_front, Y_train_back])\n",
    "        print(\"Train model...\")\n",
    "        model, model_results = train_model((X1_train, X2_train, Y_train), (X1_test, X2_test, Y_test), epochs=20, verbose=0)\n",
    "        if model_results is None:\n",
    "            # Cause by KeyboardInterrupt\n",
    "            return results, None\n",
    "        val_score = model.evaluate({'main_input': X1_test, 'aux_input': X2_test},\n",
    "                                           {'main_output': Y_test, 'aux_output': Y_test}, verbose=0)\n",
    "        print(val_score)\n",
    "        test_mse = val_score[-2]\n",
    "        if test_mse < best_value:\n",
    "            best_value = test_mse\n",
    "            best_model = model\n",
    "            print(\"Updated best model\")\n",
    "        print(\"Test MSE in run {}: {}\".format(i, test_mse))\n",
    "        predicted = model.predict({'main_input': X1_train, 'aux_input': X2_train})\n",
    "        print(\"Unique predicted values: {}\".format(' '.join(\n",
    "            np.unique([str(x) for x in np.round(np.array(predicted)[0, :, 0] * MAX_SURVIVAL)]))))\n",
    "        results.append(test_mse)\n",
    "    return results, np.mean([x**2 for x in results])\n",
    "\n",
    "results2, cv_mse = n_fold_cross_validation()"
   ]
  },
  {
   "cell_type": "code",
   "execution_count": 664,
   "metadata": {
    "scrolled": true
   },
   "outputs": [
    {
     "ename": "IndexError",
     "evalue": "too many indices for array",
     "output_type": "error",
     "traceback": [
      "\u001b[0;31m\u001b[0m",
      "\u001b[0;31mIndexError\u001b[0mTraceback (most recent call last)",
      "\u001b[0;32m<ipython-input-664-a7023907b4e4>\u001b[0m in \u001b[0;36m<module>\u001b[0;34m()\u001b[0m\n\u001b[1;32m      2\u001b[0m \u001b[0mimp\u001b[0m\u001b[0;34m.\u001b[0m\u001b[0mreload\u001b[0m\u001b[0;34m(\u001b[0m\u001b[0mutils\u001b[0m\u001b[0;34m)\u001b[0m\u001b[0;34m\u001b[0m\u001b[0m\n\u001b[1;32m      3\u001b[0m \u001b[0mpredicted\u001b[0m \u001b[0;34m=\u001b[0m \u001b[0mmodel\u001b[0m\u001b[0;34m.\u001b[0m\u001b[0mpredict\u001b[0m\u001b[0;34m(\u001b[0m\u001b[0;34m{\u001b[0m\u001b[0;34m'main_input'\u001b[0m\u001b[0;34m:\u001b[0m \u001b[0mX1_val\u001b[0m\u001b[0;34m,\u001b[0m \u001b[0;34m'aux_input'\u001b[0m\u001b[0;34m:\u001b[0m \u001b[0mX2_val\u001b[0m\u001b[0;34m}\u001b[0m\u001b[0;34m)\u001b[0m\u001b[0;34m\u001b[0m\u001b[0m\n\u001b[0;32m----> 4\u001b[0;31m \u001b[0mpredicted\u001b[0m \u001b[0;34m=\u001b[0m \u001b[0mnp\u001b[0m\u001b[0;34m.\u001b[0m\u001b[0marray\u001b[0m\u001b[0;34m(\u001b[0m\u001b[0mpredicted\u001b[0m\u001b[0;34m)\u001b[0m\u001b[0;34m[\u001b[0m\u001b[0;36m0\u001b[0m\u001b[0;34m,\u001b[0m \u001b[0;34m:\u001b[0m\u001b[0;34m,\u001b[0m \u001b[0;36m0\u001b[0m\u001b[0;34m]\u001b[0m\u001b[0;34m\u001b[0m\u001b[0m\n\u001b[0m\u001b[1;32m      5\u001b[0m \u001b[0mpredicted\u001b[0m \u001b[0;34m*=\u001b[0m \u001b[0mMAX_SURVIVAL\u001b[0m\u001b[0;34m\u001b[0m\u001b[0m\n\u001b[1;32m      6\u001b[0m \u001b[0mutils\u001b[0m\u001b[0;34m.\u001b[0m\u001b[0mplot_samples\u001b[0m\u001b[0;34m(\u001b[0m\u001b[0mX1_val\u001b[0m\u001b[0;34m,\u001b[0m \u001b[0mX2_val\u001b[0m\u001b[0;34m.\u001b[0m\u001b[0margmax\u001b[0m\u001b[0;34m(\u001b[0m\u001b[0maxis\u001b[0m\u001b[0;34m=\u001b[0m\u001b[0;36m1\u001b[0m\u001b[0;34m)\u001b[0m\u001b[0;34m,\u001b[0m \u001b[0mY_val\u001b[0m\u001b[0;34m.\u001b[0m\u001b[0mvalues\u001b[0m \u001b[0;34m*\u001b[0m \u001b[0mMAX_SURVIVAL\u001b[0m\u001b[0;34m,\u001b[0m \u001b[0mpredicted\u001b[0m\u001b[0;34m=\u001b[0m\u001b[0mpredicted\u001b[0m\u001b[0;34m,\u001b[0m \u001b[0msamples\u001b[0m\u001b[0;34m=\u001b[0m\u001b[0;36m10\u001b[0m\u001b[0;34m,\u001b[0m \u001b[0mseed\u001b[0m\u001b[0;34m=\u001b[0m\u001b[0;36m10\u001b[0m\u001b[0;34m)\u001b[0m\u001b[0;34m\u001b[0m\u001b[0m\n",
      "\u001b[0;31mIndexError\u001b[0m: too many indices for array"
     ]
    }
   ],
   "source": [
    "# Check X vs labels?\n",
    "imp.reload(utils)\n",
    "predicted = model.predict({'main_input': X1_val, 'aux_input': X2_val})\n",
    "predicted = np.array(predicted)[0, :, 0]\n",
    "predicted *= MAX_SURVIVAL\n",
    "utils.plot_samples(X1_val, X2_val.argmax(axis=1), Y_val.values * MAX_SURVIVAL, predicted=predicted, samples=10, seed=10)"
   ]
  },
  {
   "cell_type": "code",
   "execution_count": 331,
   "metadata": {
    "scrolled": true
   },
   "outputs": [
    {
     "name": "stdout",
     "output_type": "stream",
     "text": [
      "train: MSE: 124763.963416\n",
      "Age: 58, GT: 439.0, Prediction: 383.974432945\n",
      "Age: 56, GT: 368.0, Prediction: 384.191215038\n",
      "Age: 63, GT: 169.0, Prediction: 383.958101273\n",
      "Age: 52, GT: 359.0, Prediction: 384.108781815\n",
      "Age: 60, GT: 698.0, Prediction: 383.945643902\n",
      "Age: 66, GT: 495.0, Prediction: 383.993029594\n",
      "Age: 61, GT: 421.0, Prediction: 383.887529373\n",
      "Age: 48, GT: 515.0, Prediction: 384.235411882\n",
      "Age: 56, GT: 1155.0, Prediction: 384.250968695\n",
      "Age: 68, GT: 1278.0, Prediction: 384.145230055\n",
      "Age: 70, GT: 503.0, Prediction: 383.997350931\n",
      "Age: 67, GT: 269.0, Prediction: 384.050935507\n",
      "Age: 68, GT: 465.0, Prediction: 384.080737829\n",
      "Age: 39, GT: 788.0, Prediction: 383.932888508\n",
      "Age: 54, GT: 464.0, Prediction: 384.007513523\n",
      "Age: 52, GT: 616.0, Prediction: 384.15491581\n",
      "Age: 60, GT: 289.0, Prediction: 384.308725595\n",
      "test: MSE: 108178.730748\n"
     ]
    }
   ],
   "source": [
    "def mse(X1, X2, Y, verbose=False):\n",
    "    sum_ = 0\n",
    "    for i in range(len(X1)):\n",
    "        prediction = model.predict({'main_input': X1[i:i+1], 'aux_input': X2[i:i+1]})\n",
    "        prediction = prediction[0][0][0] * MAX_SURVIVAL  # Select main_output\n",
    "        gt = Y.values[i] * MAX_SURVIVAL\n",
    "        if verbose:\n",
    "            print('Age: {}, GT: {}, Prediction: {}'.format(\n",
    "                X2[i].argmax(),\n",
    "                gt,\n",
    "                prediction))\n",
    "        sum_ += float(gt - prediction)**2\n",
    "    return 'MSE: {}'.format(sum_ / len(X1))\n",
    "\n",
    "print('train: {}'.format(mse(X1_train, X2_train, Y_train)))\n",
    "print('test: {}'.format(mse(X1_test, X2_test, Y_test, verbose=True)))\n",
    "# print('val: {}'.format(mse(X1_val, X2_val, Y_val, verbose=True)))"
   ]
  },
  {
   "cell_type": "markdown",
   "metadata": {},
   "source": [
    "### 163 patients with tumor images of sizes 240x240 of which we have 155"
   ]
  },
  {
   "cell_type": "markdown",
   "metadata": {},
   "source": [
    "### Start\n",
    "Implementing a concatenated model as shown in the Docs: https://keras.io/getting-started/functional-api-guide/#multi-input-and-multi-output-models\n",
    "The model uses a small common CNN for processing one patient (155 slices x 128 width x 128 height) and just inserts the age at a certain point. With this simple model we get really bad results (main_output_loss: 263381.5156 [not getting better]).\n",
    "\n",
    "\n",
    "### Possible improvements\n",
    "1. ~~Conv3D (in CNN) which gets a 4D input - therefore add the tumor region as a dimension (transform input image into three images containing each tumor region seperately~~)\n",
    "2. ~~One-hot encoder (in sklearn or implement manually)\n",
    "  [ I tried Keras Lambda layer but after fixing the shapes keras told me that I'm not allowed to concatenate with a non input layer ]~~\n",
    "3. ~~Add modalities, rescale images (8GB -> 2GB)~~\n",
    "4. Group survival rate into few classes changing the regression task into a classification task (with softmax).\n",
    "5. Evaluate if LSTM is useful for this task (before concatenating the two branches or as a concatenator?)\n",
    "6. ~~Evaluate our optimizer (RMSprp vs Adam vs AdaDelta)\n",
    "    -> RMSprop doesn't learn at all (Adam does!)\n",
    "    -> First run was without normalization but no improvement (After normalization quite good results)~~\n",
    "7. I red full batch learning is the best way for training on few training data - check if this is helpful.\n",
    "8. Use for a patient nx, ny and nz at the same time\n",
    "9. Data augmentation?\n",
    "10. ~~Check if the dimension are correctly set for the conv3d layers - i got the feeling, that the first dimension are the modalities/results instead of the slices.~~\n",
    "\n",
    "##### Optimizer:\n",
    "RMSprop uses:\n",
    "    - Momentum taking knowledge from previous steps into account about where we should be heading\n",
    "        (prevents gradient descent to oscillate)\n",
    "    - Uses recent gradients to adjust alpha (when the gradient is very large, alpha is reduced and vice-versa)\n",
    "    - Later we should test if AdaDelta or Adam are improving our results (quite similar to RMSprop)"
   ]
  }
 ],
 "metadata": {
  "kernelspec": {
   "display_name": "Python 2",
   "language": "python",
   "name": "python2"
  },
  "language_info": {
   "codemirror_mode": {
    "name": "ipython",
    "version": 2
   },
   "file_extension": ".py",
   "mimetype": "text/x-python",
   "name": "python",
   "nbconvert_exporter": "python",
   "pygments_lexer": "ipython2",
   "version": "2.7.12"
  }
 },
 "nbformat": 4,
 "nbformat_minor": 1
}
