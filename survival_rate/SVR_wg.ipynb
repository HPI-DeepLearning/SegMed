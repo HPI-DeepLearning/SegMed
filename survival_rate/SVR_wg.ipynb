{
 "cells": [
  {
   "cell_type": "code",
   "execution_count": 13,
   "metadata": {},
   "outputs": [],
   "source": [
    "import matplotlib.pyplot as plt\n",
    "%matplotlib inline\n",
    "import pandas as pd\n",
    "import numpy as np\n",
    "import keras\n",
    "from keras import backend as K\n",
    "from keras.layers import Input, Embedding, LSTM, Dense, Conv2D\n",
    "from keras.models import Sequential, Model\n",
    "from keras.layers import Dense, Dropout, Activation, Flatten, Concatenate\n",
    "from keras.layers import Conv3D, MaxPooling3D, Conv2D, MaxPooling2D\n",
    "from keras.losses import categorical_crossentropy\n",
    "from keras.layers.advanced_activations import PReLU, LeakyReLU\n",
    "from keras.optimizers import Adadelta, Nadam, Adam\n",
    "from sklearn.model_selection import StratifiedKFold\n",
    "import tensorflow as tf\n",
    "from tensorflow.python.client import device_lib\n",
    "import utils\n",
    "import imp\n",
    "imp.reload(utils)\n",
    "\n",
    "IMAGE_HEIGHT, IMAGE_WIDTH = 120, 120\n",
    "AGE_CLASSES = 100\n",
    "MAX_SURVIVAL = 2000"
   ]
  },
  {
   "cell_type": "code",
   "execution_count": 14,
   "metadata": {},
   "outputs": [
    {
     "data": {
      "text/plain": [
       "'Done'"
      ]
     },
     "execution_count": 14,
     "metadata": {},
     "output_type": "execute_result"
    }
   ],
   "source": [
    "df = pd.read_csv(\"data/survival_data.csv\")\n",
    "df.head()\n",
    "X = np.load('data/tumors_small_nz.npy')\n",
    "X = X.transpose((0, 2, 1, 3, 4))\n",
    "\n",
    "df['TSize'] = X[:, :3].sum(axis=(1, 2, 3, 4))\n",
    "df['TSize1'] = X[:, 0:1].sum(axis=(1, 2, 3, 4))\n",
    "df['TSize2'] = X[:, 1:2].sum(axis=(1, 2, 3, 4))\n",
    "df['TSize3'] = X[:, 2:3].sum(axis=(1, 2, 3, 4))\n",
    "df['BSize'] = X[:, 3:].sum(axis=(1, 2, 3, 4))\n",
    "\n",
    "PATIENTS = 163\n",
    "TUMOR_CLASSES = 3\n",
    "TUMOR_SLICES = 129\n",
    "for tumor_id in range(TUMOR_CLASSES):\n",
    "    tumor_sums = X[:, tumor_id:tumor_id+1].sum(axis=(3, 4))\n",
    "    for patient_id in range(PATIENTS):\n",
    "        for slice_id in range(TUMOR_SLICES):\n",
    "            df.loc[patient_id, \"Tumor{}Slice{}Sum\".format(tumor_id+1, slice_id)] = tumor_sums[patient_id, 0, slice_id]\n",
    "\n",
    "\"\"\"Drop columns just containing 0\"\"\"\n",
    "df = df.loc[:, (df != 0).any(axis=0)]\n",
    "\"Done\""
   ]
  },
  {
   "cell_type": "code",
   "execution_count": 15,
   "metadata": {
    "collapsed": true
   },
   "outputs": [],
   "source": [
    "if \"Brats17ID\" in df.columns:\n",
    "    _ = df.pop(\"Brats17ID\")\n",
    "\n",
    "Y_diff = df[\"Survival\"].max() - df[\"Survival\"].min()\n",
    "Y_mean = df[\"Survival\"].mean()\n",
    "    \n",
    "df = (df - df.mean()) / (df.max() - df.min())\n",
    "\n",
    "if \"Survival\" in df.columns:\n",
    "    Y = df.pop(\"Survival\")"
   ]
  },
  {
   "cell_type": "code",
   "execution_count": null,
   "metadata": {
    "collapsed": true
   },
   "outputs": [],
   "source": [
    "from sklearn.model_selection import KFold\n",
    "kf = KFold(n_splits=10, shuffle=True, random_state=42)\n",
    "\n",
    "from sklearn.pipeline import Pipeline, FeatureUnion\n",
    "from sklearn.model_selection import GridSearchCV, RandomizedSearchCV\n",
    "from sklearn.datasets import load_iris\n",
    "from sklearn.decomposition import PCA\n",
    "from sklearn.feature_selection import SelectKBest\n",
    "from scipy.stats import randint as sp_randint\n",
    "from sklearn.svm import SVR\n",
    "import math\n",
    "\n",
    "def backscale_Y(Y, Y_diff, Y_mean):\n",
    "    return Y * Y_diff + Y_mean"
   ]
  },
  {
   "cell_type": "code",
   "execution_count": null,
   "metadata": {},
   "outputs": [],
   "source": [
    "pca = PCA(n_components=50)\n",
    "svm = SVR(kernel=\"sigmoid\")\n",
    "\n",
    "pipeline = Pipeline([(\"features\", pca), (\"svm\", svm)])\n",
    "\n",
    "param_dist = dict(features__n_components=list(range(40, 55, 1)),\n",
    "                  svm__kernel=['sigmoid'],\n",
    "                  svm__C=map(lambda x : x/float(100), list(range(80, 100, 5))))\n",
    "\n",
    "grid_search = GridSearchCV(pipeline, param_grid=param_dist, verbose=0, n_jobs=-1, cv=10)\n",
    "grid_search.fit(X_train, y_train)\n",
    "print(grid_search.best_estimator_)"
   ]
  },
  {
   "cell_type": "code",
   "execution_count": null,
   "metadata": {},
   "outputs": [],
   "source": [
    "#clf = Pipeline(steps=[('features', FeatureUnion(n_jobs=1,\n",
    "#       transformer_list=[('pca', PCA(copy=True, iterated_power='auto', n_components=69, random_state=None,\n",
    "#  svd_solver='auto', tol=0.0, whiten=False))],\n",
    "#       transformer_weights=None)), ('svm', SVR(C=0.800735491526, cache_size=200, coef0=0.0, degree=3, epsilon=0.1,\n",
    "#  gamma='auto', kernel='sigmoid', max_iter=-1, shrinking=False, tol=0.001,\n",
    "#  verbose=False))])\n",
    "#clf = Pipeline(steps=[('svm', SVR(C=0.800735491526, cache_size=200, coef0=0.0, degree=3, epsilon=0.1,\n",
    "#  gamma='auto', kernel='sigmoid', max_iter=-1, shrinking=False, tol=0.001,\n",
    "#  verbose=False))])\n",
    "\n",
    "clf = grid_search.best_estimator_\n",
    "\n",
    "scores = []\n",
    "\n",
    "for train_index, test_index in kf.split(df):\n",
    "    X_train, X_test = df.iloc[train_index, :], df.iloc[test_index, :]\n",
    "    y_train, y_test = Y[train_index], Y[test_index]\n",
    "    clf.fit(X_train, y_train)\n",
    "    y_pred = clf.predict(X_test)\n",
    "    backscaled_y_pred = backscale_Y(y_pred, Y_diff, Y_mean)\n",
    "    backscaled_y_test = backscale_Y(y_test, Y_diff, Y_mean)\n",
    "    score = math.floor(sum((backscaled_y_test-backscaled_y_pred)**2)/len(y_test))\n",
    "    scores.append(score)\n",
    "print sum(scores)/len(scores)"
   ]
  },
  {
   "cell_type": "code",
   "execution_count": null,
   "metadata": {
    "collapsed": true
   },
   "outputs": [],
   "source": []
  }
 ],
 "metadata": {
  "kernelspec": {
   "display_name": "Python 2",
   "language": "python",
   "name": "python2"
  },
  "language_info": {
   "codemirror_mode": {
    "name": "ipython",
    "version": 2
   },
   "file_extension": ".py",
   "mimetype": "text/x-python",
   "name": "python",
   "nbconvert_exporter": "python",
   "pygments_lexer": "ipython2",
   "version": "2.7.12"
  }
 },
 "nbformat": 4,
 "nbformat_minor": 2
}
