{
 "cells": [
  {
   "cell_type": "code",
   "execution_count": 1,
   "metadata": {
    "scrolled": true
   },
   "outputs": [
    {
     "name": "stderr",
     "output_type": "stream",
     "text": [
      "Using TensorFlow backend.\n"
     ]
    }
   ],
   "source": [
    "import matplotlib.pyplot as plt\n",
    "%matplotlib inline\n",
    "import pandas as pd\n",
    "import numpy as np\n",
    "import keras\n",
    "from keras import backend as K\n",
    "from keras.layers import Input, Embedding, LSTM, Dense, Conv2D\n",
    "from keras.models import Sequential, Model\n",
    "from keras.layers import Dense, Dropout, Activation, Flatten, Concatenate\n",
    "from keras.layers import Conv3D, MaxPooling3D, Conv2D, MaxPooling2D\n",
    "from keras.losses import categorical_crossentropy\n",
    "from keras.layers.advanced_activations import PReLU, LeakyReLU\n",
    "from keras.optimizers import Adadelta, Nadam, Adam\n",
    "from sklearn.model_selection import StratifiedKFold\n",
    "import tensorflow as tf\n",
    "from tensorflow.python.client import device_lib\n",
    "import utils\n",
    "import imp\n",
    "imp.reload(utils)\n",
    "\n",
    "IMAGE_HEIGHT, IMAGE_WIDTH = 120, 120\n",
    "AGE_CLASSES = 100\n",
    "MAX_SURVIVAL = 2000"
   ]
  },
  {
   "cell_type": "markdown",
   "metadata": {},
   "source": [
    "## Load data"
   ]
  },
  {
   "cell_type": "code",
   "execution_count": 2,
   "metadata": {
    "collapsed": true
   },
   "outputs": [],
   "source": [
    "df = pd.read_csv(\"data/survival_data.csv\")\n",
    "df.head()\n",
    "orig_X = np.load('data/tumors_small_nz.npy')\n",
    "orig_X = orig_X.transpose((0, 2, 1, 3, 4))\n",
    "X = orig_X\n",
    "Y = df['Survival']"
   ]
  },
  {
   "cell_type": "markdown",
   "metadata": {},
   "source": [
    "## Tumor 2D\n",
    "\n",
    "One pixel contains the sum of slices containing tumor at this position"
   ]
  },
  {
   "cell_type": "code",
   "execution_count": 3,
   "metadata": {
    "collapsed": true
   },
   "outputs": [],
   "source": [
    "tumor2D = orig_X[:, :, :, :, :].sum(axis=2)\n",
    "X = tumor2D"
   ]
  },
  {
   "cell_type": "code",
   "execution_count": null,
   "metadata": {
    "collapsed": true
   },
   "outputs": [],
   "source": [
    "# Example how this will look in the end, the values are between 0 and 16000\n",
    "fig, axes = plt.subplots(1, 4, figsize=(16, 4))\n",
    "for i, ax in enumerate(axes.flat):\n",
    "    ax.imshow(orig_X[10, i, :, :, :].sum(axis=0))\n",
    "    ax.set_title('Patient 10, Tumor region {}'.format(i))\n",
    "axes[-1].set_title('Patient 10, Brain modality #1')\n",
    "fig.savefig('analysis/tumor_2d.jpg')"
   ]
  },
  {
   "cell_type": "markdown",
   "metadata": {},
   "source": [
    "## Prepare data"
   ]
  },
  {
   "cell_type": "code",
   "execution_count": 4,
   "metadata": {
    "collapsed": true
   },
   "outputs": [],
   "source": [
    "def get_splitted_data(X, ages, labels):\n",
    "    assert len(X) == len(labels) == len(ages)\n",
    "    # OneHotEncoding for ages\n",
    "    enc_table = np.eye(AGE_CLASSES)\n",
    "    ages_ohe = np.array([enc_table[int(round(x))] for x in ages])\n",
    "    # Normalize labels\n",
    "    labels /= MAX_SURVIVAL\n",
    "    # Use all data for training and testing:\n",
    "    cuts = [int(.9*len(X))]\n",
    "    X1_train, X1_test = np.split(X, cuts)\n",
    "    X2_train, X2_test = np.split(ages_ohe, cuts)\n",
    "    Y_train, Y_test = np.split(labels, cuts)\n",
    "    return X1_train, X2_train, Y_train, X1_test, X2_test, Y_test\n",
    "\n",
    "X1_train, X2_train, Y_train, X1_test, X2_test, Y_test = get_splitted_data(X, df['Age'], Y)"
   ]
  },
  {
   "cell_type": "markdown",
   "metadata": {},
   "source": [
    "## Run model"
   ]
  },
  {
   "cell_type": "code",
   "execution_count": 8,
   "metadata": {
    "collapsed": true,
    "scrolled": false
   },
   "outputs": [],
   "source": [
    "def mse(y_true, y_pred):\n",
    "    return K.mean(K.square(y_pred*MAX_SURVIVAL - y_true*MAX_SURVIVAL), axis=-1)\n",
    "\n",
    "def build_model():\n",
    "    main_input = Input(shape=X1_test.shape[1:], dtype='float32', name='main_input')\n",
    "    x = Conv2D(32, (5, 5), padding='same', data_format='channels_first')(main_input)\n",
    "    x = MaxPooling2D(pool_size=(2, 2), data_format='channels_first')(x)\n",
    "    x = Activation(LeakyReLU())(x)\n",
    "    x = Dropout(0.5)(x)\n",
    "    x = Conv2D(64, (3, 3), padding='same', data_format='channels_first')(x)\n",
    "    x = MaxPooling2D(pool_size=(2, 2), data_format='channels_first')(x)\n",
    "    x = Activation(PReLU())(x)\n",
    "    x = Dropout(0.5)(x)\n",
    "    x = Dense(128, activation='tanh')(x)\n",
    "    cnn_out = Flatten()(x)\n",
    "    x = Dense(64, activation='sigmoid')(x)\n",
    "    auxiliary_output = Dense(1, activation='sigmoid', name='aux_output')(cnn_out)\n",
    "\n",
    "    auxiliary_input = Input(shape=(AGE_CLASSES,), name='aux_input', dtype='float32')\n",
    "    x = Dense(AGE_CLASSES//2, activation='tanh')(auxiliary_input)\n",
    "    x = Dropout(0.3)(x)\n",
    "    x = keras.layers.concatenate([cnn_out, x])\n",
    "    x = Dense(128, activation='tanh')(x)\n",
    "    x = Dropout(0.3)(x)\n",
    "    x = Dense(128, activation='sigmoid')(x)\n",
    "    main_output = Dense(1, dtype='float32', activation='sigmoid', name='main_output')(x)\n",
    "    model = Model(inputs=[main_input, auxiliary_input], outputs=[main_output, auxiliary_output])\n",
    "    optimizer = 'Adam'  # Adam(lr=0.001)\n",
    "    model.compile(optimizer=optimizer, metrics=[mse],\n",
    "                  loss={'main_output': 'mean_squared_error', 'aux_output': 'mean_squared_error'},\n",
    "                  loss_weights={'main_output': 1, 'aux_output': 0})\n",
    "    return model"
   ]
  },
  {
   "cell_type": "code",
   "execution_count": 9,
   "metadata": {
    "scrolled": true
   },
   "outputs": [
    {
     "name": "stdout",
     "output_type": "stream",
     "text": [
      "Train on 146 samples, validate on 17 samples\n",
      "Epoch 1/50\n",
      "146/146 [==============================] - 14s - loss: 0.0629 - main_output_loss: 0.0629 - aux_output_loss: 0.2399 - main_output_mse: 251758.9489 - aux_output_mse: 959706.9914 - val_loss: 0.0274 - val_main_output_loss: 0.0274 - val_aux_output_loss: 0.2118 - val_main_output_mse: 109456.0044 - val_aux_output_mse: 847179.8750\n",
      "Epoch 2/50\n",
      "146/146 [==============================] - 13s - loss: 0.0315 - main_output_loss: 0.0315 - aux_output_loss: 0.2020 - main_output_mse: 125803.9405 - aux_output_mse: 808127.7483 - val_loss: 0.0330 - val_main_output_loss: 0.0330 - val_aux_output_loss: 0.1755 - val_main_output_mse: 131920.0647 - val_aux_output_mse: 702179.3235\n",
      "Epoch 3/50\n",
      "146/146 [==============================] - 13s - loss: 0.0329 - main_output_loss: 0.0329 - aux_output_loss: 0.2141 - main_output_mse: 131749.2000 - aux_output_mse: 856439.5488 - val_loss: 0.0291 - val_main_output_loss: 0.0291 - val_aux_output_loss: 0.1623 - val_main_output_mse: 116299.6435 - val_aux_output_mse: 649070.5515\n",
      "Epoch 4/50\n",
      "146/146 [==============================] - 13s - loss: 0.0329 - main_output_loss: 0.0329 - aux_output_loss: 0.2016 - main_output_mse: 131569.7308 - aux_output_mse: 806239.1473 - val_loss: 0.0291 - val_main_output_loss: 0.0291 - val_aux_output_loss: 0.1543 - val_main_output_mse: 116494.0044 - val_aux_output_mse: 617333.1949\n",
      "Epoch 5/50\n",
      "146/146 [==============================] - 13s - loss: 0.0320 - main_output_loss: 0.0320 - aux_output_loss: 0.2260 - main_output_mse: 127963.8435 - aux_output_mse: 903851.2697 - val_loss: 0.0307 - val_main_output_loss: 0.0307 - val_aux_output_loss: 0.1533 - val_main_output_mse: 122637.7043 - val_aux_output_mse: 613178.9559\n",
      "Epoch 6/50\n",
      "146/146 [==============================] - 13s - loss: 0.0330 - main_output_loss: 0.0330 - aux_output_loss: 0.2193 - main_output_mse: 132019.6175 - aux_output_mse: 877030.4315 - val_loss: 0.0297 - val_main_output_loss: 0.0297 - val_aux_output_loss: 0.1533 - val_main_output_mse: 118648.5642 - val_aux_output_mse: 613395.7022\n",
      "Epoch 7/50\n",
      "146/146 [==============================] - 13s - loss: 0.0320 - main_output_loss: 0.0320 - aux_output_loss: 0.2358 - main_output_mse: 127974.6773 - aux_output_mse: 943245.8116 - val_loss: 0.0279 - val_main_output_loss: 0.0279 - val_aux_output_loss: 0.1535 - val_main_output_mse: 111611.5080 - val_aux_output_mse: 613905.4632\n",
      "Epoch 8/50\n",
      "146/146 [==============================] - 13s - loss: 0.0309 - main_output_loss: 0.0309 - aux_output_loss: 0.2180 - main_output_mse: 123602.9096 - aux_output_mse: 872123.8193 - val_loss: 0.0249 - val_main_output_loss: 0.0249 - val_aux_output_loss: 0.1535 - val_main_output_mse: 99495.2012 - val_aux_output_mse: 614002.8162\n",
      "Epoch 9/50\n",
      "146/146 [==============================] - 13s - loss: 0.0325 - main_output_loss: 0.0325 - aux_output_loss: 0.2276 - main_output_mse: 129814.1619 - aux_output_mse: 910244.9384 - val_loss: 0.0295 - val_main_output_loss: 0.0295 - val_aux_output_loss: 0.1535 - val_main_output_mse: 117823.0065 - val_aux_output_mse: 613958.3456\n",
      "Epoch 10/50\n",
      "146/146 [==============================] - 13s - loss: 0.0319 - main_output_loss: 0.0319 - aux_output_loss: 0.2413 - main_output_mse: 127598.3467 - aux_output_mse: 965146.2038 - val_loss: 0.0270 - val_main_output_loss: 0.0270 - val_aux_output_loss: 0.1535 - val_main_output_mse: 108113.8703 - val_aux_output_mse: 613932.4669\n",
      "Epoch 11/50\n",
      "146/146 [==============================] - 13s - loss: 0.0343 - main_output_loss: 0.0343 - aux_output_loss: 0.2332 - main_output_mse: 137396.4881 - aux_output_mse: 932900.3913 - val_loss: 0.0352 - val_main_output_loss: 0.0352 - val_aux_output_loss: 0.1535 - val_main_output_mse: 140642.7423 - val_aux_output_mse: 613922.4375\n",
      "Epoch 12/50\n",
      "146/146 [==============================] - 13s - loss: 0.0347 - main_output_loss: 0.0347 - aux_output_loss: 0.1848 - main_output_mse: 138907.5624 - aux_output_mse: 739291.7979 - val_loss: 0.0325 - val_main_output_loss: 0.0325 - val_aux_output_loss: 0.1535 - val_main_output_mse: 129963.5659 - val_aux_output_mse: 613916.9963\n",
      "Epoch 13/50\n",
      "146/146 [==============================] - 13s - loss: 0.0308 - main_output_loss: 0.0308 - aux_output_loss: 0.2285 - main_output_mse: 123234.6849 - aux_output_mse: 913891.5976 - val_loss: 0.0213 - val_main_output_loss: 0.0213 - val_aux_output_loss: 0.1535 - val_main_output_mse: 85309.8759 - val_aux_output_mse: 613917.8125\n",
      "Epoch 14/50\n",
      "146/146 [==============================] - 13s - loss: 0.0374 - main_output_loss: 0.0374 - aux_output_loss: 0.2049 - main_output_mse: 149521.5074 - aux_output_mse: 819553.0325 - val_loss: 0.0321 - val_main_output_loss: 0.0321 - val_aux_output_loss: 0.1535 - val_main_output_mse: 128385.2101 - val_aux_output_mse: 613916.7794\n",
      "Epoch 15/50\n",
      "146/146 [==============================] - 13s - loss: 0.0319 - main_output_loss: 0.0319 - aux_output_loss: 0.2288 - main_output_mse: 127423.2110 - aux_output_mse: 915321.7461 - val_loss: 0.0278 - val_main_output_loss: 0.0278 - val_aux_output_loss: 0.1535 - val_main_output_mse: 111023.9509 - val_aux_output_mse: 613916.5331\n",
      "Epoch 16/50\n",
      "146/146 [==============================] - 13s - loss: 0.0342 - main_output_loss: 0.0342 - aux_output_loss: 0.2074 - main_output_mse: 136976.7425 - aux_output_mse: 829501.4178 - val_loss: 0.0299 - val_main_output_loss: 0.0299 - val_aux_output_loss: 0.1535 - val_main_output_mse: 119667.2040 - val_aux_output_mse: 613916.6875\n",
      "Epoch 17/50\n",
      "146/146 [==============================] - 13s - loss: 0.0352 - main_output_loss: 0.0352 - aux_output_loss: 0.2416 - main_output_mse: 140693.2644 - aux_output_mse: 966378.8151 - val_loss: 0.0358 - val_main_output_loss: 0.0358 - val_aux_output_loss: 0.1535 - val_main_output_mse: 143237.2435 - val_aux_output_mse: 613917.1103\n",
      "Epoch 18/50\n",
      "146/146 [==============================] - 13s - loss: 0.0314 - main_output_loss: 0.0314 - aux_output_loss: 0.1988 - main_output_mse: 125795.7603 - aux_output_mse: 795334.5154 - val_loss: 0.0228 - val_main_output_loss: 0.0228 - val_aux_output_loss: 0.1535 - val_main_output_mse: 91089.0479 - val_aux_output_mse: 613917.1213\n",
      "Epoch 19/50\n",
      "146/146 [==============================] - 13s - loss: 0.0367 - main_output_loss: 0.0367 - aux_output_loss: 0.2181 - main_output_mse: 146927.4689 - aux_output_mse: 872242.6794 - val_loss: 0.0314 - val_main_output_loss: 0.0314 - val_aux_output_loss: 0.1535 - val_main_output_mse: 125496.8189 - val_aux_output_mse: 613917.1324\n",
      "Epoch 20/50\n",
      "146/146 [==============================] - 13s - loss: 0.0333 - main_output_loss: 0.0333 - aux_output_loss: 0.2125 - main_output_mse: 133334.1323 - aux_output_mse: 849952.5205 - val_loss: 0.0321 - val_main_output_loss: 0.0321 - val_aux_output_loss: 0.1535 - val_main_output_mse: 128563.3010 - val_aux_output_mse: 613917.1324\n",
      "Epoch 21/50\n",
      "146/146 [==============================] - 13s - loss: 0.0303 - main_output_loss: 0.0303 - aux_output_loss: 0.2420 - main_output_mse: 121320.2929 - aux_output_mse: 967999.3823 - val_loss: 0.0242 - val_main_output_loss: 0.0242 - val_aux_output_loss: 0.1535 - val_main_output_mse: 96966.2409 - val_aux_output_mse: 613917.1324\n",
      "Epoch 22/50\n",
      "146/146 [==============================] - 13s - loss: 0.0324 - main_output_loss: 0.0324 - aux_output_loss: 0.2298 - main_output_mse: 129590.3430 - aux_output_mse: 919102.2577 - val_loss: 0.0284 - val_main_output_loss: 0.0284 - val_aux_output_loss: 0.1535 - val_main_output_mse: 113412.9735 - val_aux_output_mse: 613917.1324\n",
      "Epoch 23/50\n",
      " 96/146 [==================>...........] - ETA: 4s - loss: 0.0249 - main_output_loss: 0.0249 - aux_output_loss: 0.2095 - main_output_mse: 99766.5326 - aux_output_mse: 837932.5000 "
     ]
    }
   ],
   "source": [
    "def train_model(train, test, epochs=50, verbose=1, batch_size=16):\n",
    "    input1_train, input2_train, output_train = train\n",
    "    input1_test, input2_test, output_test = test\n",
    "    with tf.device('/gpu:0'):\n",
    "        model = build_model()\n",
    "        history = keras.callbacks.History()\n",
    "        try:\n",
    "            model_results = model.fit(\n",
    "                {'main_input': input1_train, 'aux_input': input2_train},\n",
    "                {'main_output': output_train, 'aux_output': output_train},\n",
    "                epochs=epochs, batch_size=batch_size, verbose=verbose,\n",
    "                validation_data=({'main_input': input1_test, 'aux_input': input2_test},\n",
    "                                 {'main_output': output_test, 'aux_output': output_test}),\n",
    "                callbacks=[history])\n",
    "        except KeyboardInterrupt:\n",
    "            model_results = None\n",
    "            pass\n",
    "    return model, model_results\n",
    "\n",
    "model, model_results = train_model((X1_train, X2_train, Y_train), (X1_test, X2_test, Y_test))"
   ]
  },
  {
   "cell_type": "code",
   "execution_count": 10,
   "metadata": {
    "scrolled": true
   },
   "outputs": [
    {
     "ename": "AttributeError",
     "evalue": "'NoneType' object has no attribute 'history'",
     "output_type": "error",
     "traceback": [
      "\u001b[0;31m\u001b[0m",
      "\u001b[0;31mAttributeError\u001b[0mTraceback (most recent call last)",
      "\u001b[0;32m<ipython-input-10-b8991a4e7810>\u001b[0m in \u001b[0;36m<module>\u001b[0;34m()\u001b[0m\n\u001b[1;32m      1\u001b[0m \u001b[0;31m# imp.reload(utils)\u001b[0m\u001b[0;34m\u001b[0m\u001b[0;34m\u001b[0m\u001b[0m\n\u001b[0;32m----> 2\u001b[0;31m \u001b[0mutils\u001b[0m\u001b[0;34m.\u001b[0m\u001b[0mplot_history\u001b[0m\u001b[0;34m(\u001b[0m\u001b[0mmodel_results\u001b[0m\u001b[0;34m,\u001b[0m \u001b[0mfilename\u001b[0m\u001b[0;34m=\u001b[0m\u001b[0;34m'analysis/model_history.jpg'\u001b[0m\u001b[0;34m)\u001b[0m\u001b[0;34m\u001b[0m\u001b[0m\n\u001b[0m\u001b[1;32m      3\u001b[0m \u001b[0mutils\u001b[0m\u001b[0;34m.\u001b[0m\u001b[0mplot_model\u001b[0m\u001b[0;34m(\u001b[0m\u001b[0mmodel\u001b[0m\u001b[0;34m,\u001b[0m \u001b[0;34m'analysis/model.jpg'\u001b[0m\u001b[0;34m)\u001b[0m\u001b[0;34m\u001b[0m\u001b[0m\n\u001b[1;32m      4\u001b[0m \u001b[0;34m\u001b[0m\u001b[0m\n\u001b[1;32m      5\u001b[0m \u001b[0;31m# Evaluate model on validation set\u001b[0m\u001b[0;34m\u001b[0m\u001b[0;34m\u001b[0m\u001b[0m\n",
      "\u001b[0;32m/home/segmed_ss17/SegMed/survival_rate/utils.pyc\u001b[0m in \u001b[0;36mplot_history\u001b[0;34m(model_results, filename)\u001b[0m\n\u001b[1;32m      7\u001b[0m \u001b[0;32mdef\u001b[0m \u001b[0mplot_history\u001b[0m\u001b[0;34m(\u001b[0m\u001b[0mmodel_results\u001b[0m\u001b[0;34m,\u001b[0m \u001b[0mfilename\u001b[0m\u001b[0;34m=\u001b[0m\u001b[0mNone\u001b[0m\u001b[0;34m)\u001b[0m\u001b[0;34m:\u001b[0m\u001b[0;34m\u001b[0m\u001b[0m\n\u001b[1;32m      8\u001b[0m     \u001b[0max\u001b[0m \u001b[0;34m=\u001b[0m \u001b[0mplt\u001b[0m\u001b[0;34m.\u001b[0m\u001b[0mfigure\u001b[0m\u001b[0;34m(\u001b[0m\u001b[0;34m)\u001b[0m\u001b[0;34m.\u001b[0m\u001b[0mgca\u001b[0m\u001b[0;34m(\u001b[0m\u001b[0;34m)\u001b[0m\u001b[0;34m\u001b[0m\u001b[0m\n\u001b[0;32m----> 9\u001b[0;31m     \u001b[0max\u001b[0m\u001b[0;34m.\u001b[0m\u001b[0mplot\u001b[0m\u001b[0;34m(\u001b[0m\u001b[0mmodel_results\u001b[0m\u001b[0;34m.\u001b[0m\u001b[0mhistory\u001b[0m\u001b[0;34m[\u001b[0m\u001b[0;34m'aux_output_mse'\u001b[0m\u001b[0;34m]\u001b[0m\u001b[0;34m,\u001b[0m \u001b[0mlabel\u001b[0m\u001b[0;34m=\u001b[0m\u001b[0;34m'aux_output_mse'\u001b[0m\u001b[0;34m)\u001b[0m\u001b[0;34m\u001b[0m\u001b[0m\n\u001b[0m\u001b[1;32m     10\u001b[0m     \u001b[0max\u001b[0m\u001b[0;34m.\u001b[0m\u001b[0mplot\u001b[0m\u001b[0;34m(\u001b[0m\u001b[0mmodel_results\u001b[0m\u001b[0;34m.\u001b[0m\u001b[0mhistory\u001b[0m\u001b[0;34m[\u001b[0m\u001b[0;34m'main_output_mse'\u001b[0m\u001b[0;34m]\u001b[0m\u001b[0;34m,\u001b[0m \u001b[0mlabel\u001b[0m\u001b[0;34m=\u001b[0m\u001b[0;34m'main_output_mse'\u001b[0m\u001b[0;34m)\u001b[0m\u001b[0;34m\u001b[0m\u001b[0m\n\u001b[1;32m     11\u001b[0m     \u001b[0max\u001b[0m\u001b[0;34m.\u001b[0m\u001b[0mplot\u001b[0m\u001b[0;34m(\u001b[0m\u001b[0mmodel_results\u001b[0m\u001b[0;34m.\u001b[0m\u001b[0mhistory\u001b[0m\u001b[0;34m[\u001b[0m\u001b[0;34m'val_aux_output_mse'\u001b[0m\u001b[0;34m]\u001b[0m\u001b[0;34m,\u001b[0m \u001b[0mlabel\u001b[0m\u001b[0;34m=\u001b[0m\u001b[0;34m'val_aux_output_mse'\u001b[0m\u001b[0;34m)\u001b[0m\u001b[0;34m\u001b[0m\u001b[0m\n",
      "\u001b[0;31mAttributeError\u001b[0m: 'NoneType' object has no attribute 'history'"
     ]
    },
    {
     "data": {
      "image/png": "[encoded data removed]",
      "text/plain": [
       "<matplotlib.figure.Figure at 0x7f4f72353ed0>"
      ]
     },
     "metadata": {},
     "output_type": "display_data"
    }
   ],
   "source": [
    "# imp.reload(utils)\n",
    "utils.plot_history(model_results, filename='analysis/model_history.jpg')\n",
    "utils.plot_model(model, 'analysis/model.jpg')\n",
    "\n",
    "# Evaluate model on validation set\n",
    "val_score = model.evaluate({'main_input': X1_test, 'aux_input': X2_test},\n",
    "                                           {'main_output': Y_test, 'aux_output': Y_test}, verbose=0)\n",
    "print('Test mse:', val_score[-2])\n",
    "print('Predictions on training set: ')\n",
    "predicted = model.predict({'main_input': X1_train, 'aux_input': X2_train})\n",
    "print(np.unique(np.round(np.array(predicted)[0, :, 0] * MAX_SURVIVAL)))\n",
    "print(np.unique(np.round(np.array(predicted)[1, :, 0] * MAX_SURVIVAL)))"
   ]
  },
  {
   "cell_type": "code",
   "execution_count": null,
   "metadata": {
    "scrolled": true
   },
   "outputs": [
    {
     "name": "stdout",
     "output_type": "stream",
     "text": [
      "Train model...\n",
      "('Overall mse: ', [0.030425029358272355, 0.030425029358272355, 0.042007312287170827, 121700.12441286426, 168029.24345763036])\n",
      "Updated best model\n",
      "Test MSE in run 0: 125325.953125, 155156.21875\n",
      "Unique predicted values: 410.0\n",
      "Train model...\n",
      "('Overall mse: ', [0.031110583647422814, 0.031110583647422814, 0.045526761241668573, 124442.34972919861, 182107.04570072851])\n",
      "Test MSE in run 1: 80217.578125, 185455.578125\n",
      "Unique predicted values: 369.0\n",
      "Train model...\n",
      "('Overall mse: ', [0.030396757750240571, 0.030396757750240571, 0.080628844652256351, 121587.0366660276, 322515.38333972392])\n",
      "Updated best model\n",
      "Test MSE in run 2: 174269.0625, 311833.8125\n",
      "Unique predicted values: 431.0\n",
      "Train model...\n"
     ]
    }
   ],
   "source": [
    "# N-fold cross validation\n",
    "# 1.) http://machinelearningmastery.com/evaluate-performance-deep-learning-models-keras/\n",
    "# 2.) https://datascience.stackexchange.com/questions/11747/cross-validation-in-keras\n",
    "results = []\n",
    "best_model = None\n",
    "best_value = None\n",
    "best_model_results = None\n",
    "def n_fold_cross_validation(folds=10):\n",
    "    global best_model, best_value\n",
    "    step = float(X.shape[0]) / folds\n",
    "    enc_table = np.eye(AGE_CLASSES)\n",
    "    ages_ohe = np.array([enc_table[int(round(x))] for x in df['Age']])\n",
    "    # Normalize labels\n",
    "    labels = df['Survival'] / MAX_SURVIVAL\n",
    "    for i in range(folds):\n",
    "        cuts = [int(step*i), int(step*(i+1))]\n",
    "        X1_train_front, X1_test, X1_train_back = np.split(X, cuts)\n",
    "        X2_train_front, X2_test, X2_train_back = np.split(ages_ohe, cuts)\n",
    "        Y_train_front, Y_test, Y_train_back = np.split(labels, cuts)\n",
    "        X1_train = np.concatenate([X1_train_front, X1_train_back])\n",
    "        X2_train = np.concatenate([X2_train_front, X2_train_back])\n",
    "        Y_train = np.concatenate([Y_train_front, Y_train_back])\n",
    "        print(\"Train model...\")\n",
    "        model, model_results = train_model((X1_train, X2_train, Y_train), (X1_test, X2_test, Y_test), epochs=20, verbose=0)\n",
    "        if model_results is None:\n",
    "            # Cause by KeyboardInterrupt\n",
    "            return results, None\n",
    "        val_score = model.evaluate({'main_input': X, 'aux_input': ages_ohe},\n",
    "                                   {'main_output': labels, 'aux_output': labels}, verbose=0)\n",
    "        predicted = model.predict({'main_input': X, 'aux_input': ages_ohe})\n",
    "        unique_values = np.unique([str(x) for x in np.round(np.array(predicted)[0, :, 0] * MAX_SURVIVAL)])\n",
    "        print('Overall mse: ', val_score)\n",
    "        if (len(unique_values) > 5 and val_score[-2] < 150000) or best_value is None or val_score[-2] < best_value:\n",
    "            best_value = val_score[-2]\n",
    "            best_model = model\n",
    "            best_model_results = model_results\n",
    "            print(\"Updated best model\")\n",
    "        \n",
    "        val_score = model.evaluate({'main_input': X1_test, 'aux_input': X2_test},\n",
    "                                   {'main_output': Y_test, 'aux_output': Y_test}, verbose=0)\n",
    "        predicted = model.predict({'main_input': X1_test, 'aux_input': X2_test})\n",
    "        unique_values = np.unique([str(x) for x in np.round(np.array(predicted)[0, :, 0] * MAX_SURVIVAL)])\n",
    "        print(\"Test MSE in run {}: {}, {}\".format(i, val_score[-2], val_score[-1]))\n",
    "        print(\"Unique predicted values: {}\".format(' '.join(unique_values)))\n",
    "        results.append(val_score[-2])\n",
    "    return results, np.mean([x**2 for x in results])\n",
    "\n",
    "results_output, cv_mse = n_fold_cross_validation()"
   ]
  },
  {
   "cell_type": "code",
   "execution_count": 670,
   "metadata": {
    "scrolled": true
   },
   "outputs": [
    {
     "name": "stdout",
     "output_type": "stream",
     "text": [
      "train: MSE: 124767.550882\n",
      "Age: 58, GT: 439.0, Prediction: 384.124279022\n",
      "Age: 56, GT: 368.0, Prediction: 384.124279022\n",
      "Age: 63, GT: 169.0, Prediction: 384.124279022\n",
      "Age: 52, GT: 359.0, Prediction: 384.124279022\n",
      "Age: 60, GT: 698.0, Prediction: 384.124279022\n",
      "Age: 66, GT: 495.0, Prediction: 384.124279022\n",
      "Age: 61, GT: 421.0, Prediction: 384.124279022\n",
      "Age: 48, GT: 515.0, Prediction: 384.124279022\n",
      "Age: 56, GT: 1155.0, Prediction: 384.124279022\n",
      "Age: 68, GT: 1278.0, Prediction: 384.124279022\n",
      "Age: 70, GT: 503.0, Prediction: 384.124279022\n",
      "Age: 67, GT: 269.0, Prediction: 384.124279022\n",
      "Age: 68, GT: 465.0, Prediction: 384.124279022\n",
      "Age: 39, GT: 788.0, Prediction: 384.124279022\n",
      "Age: 54, GT: 464.0, Prediction: 384.124279022\n",
      "Age: 52, GT: 616.0, Prediction: 384.124279022\n",
      "Age: 60, GT: 289.0, Prediction: 384.124279022\n",
      "test: MSE: 108175.323335\n"
     ]
    },
    {
     "ename": "ZeroDivisionError",
     "evalue": "integer division or modulo by zero",
     "output_type": "error",
     "traceback": [
      "\u001b[0;31m\u001b[0m",
      "\u001b[0;31mZeroDivisionError\u001b[0mTraceback (most recent call last)",
      "\u001b[0;32m<ipython-input-670-c90101bfa01f>\u001b[0m in \u001b[0;36m<module>\u001b[0;34m()\u001b[0m\n\u001b[1;32m     15\u001b[0m \u001b[0;32mprint\u001b[0m\u001b[0;34m(\u001b[0m\u001b[0;34m'train: {}'\u001b[0m\u001b[0;34m.\u001b[0m\u001b[0mformat\u001b[0m\u001b[0;34m(\u001b[0m\u001b[0mmse\u001b[0m\u001b[0;34m(\u001b[0m\u001b[0mX1_train\u001b[0m\u001b[0;34m,\u001b[0m \u001b[0mX2_train\u001b[0m\u001b[0;34m,\u001b[0m \u001b[0mY_train\u001b[0m\u001b[0;34m)\u001b[0m\u001b[0;34m)\u001b[0m\u001b[0;34m)\u001b[0m\u001b[0;34m\u001b[0m\u001b[0m\n\u001b[1;32m     16\u001b[0m \u001b[0;32mprint\u001b[0m\u001b[0;34m(\u001b[0m\u001b[0;34m'test: {}'\u001b[0m\u001b[0;34m.\u001b[0m\u001b[0mformat\u001b[0m\u001b[0;34m(\u001b[0m\u001b[0mmse\u001b[0m\u001b[0;34m(\u001b[0m\u001b[0mX1_test\u001b[0m\u001b[0;34m,\u001b[0m \u001b[0mX2_test\u001b[0m\u001b[0;34m,\u001b[0m \u001b[0mY_test\u001b[0m\u001b[0;34m,\u001b[0m \u001b[0mverbose\u001b[0m\u001b[0;34m=\u001b[0m\u001b[0mTrue\u001b[0m\u001b[0;34m)\u001b[0m\u001b[0;34m)\u001b[0m\u001b[0;34m)\u001b[0m\u001b[0;34m\u001b[0m\u001b[0m\n\u001b[0;32m---> 17\u001b[0;31m \u001b[0;32mprint\u001b[0m\u001b[0;34m(\u001b[0m\u001b[0;34m'val: {}'\u001b[0m\u001b[0;34m.\u001b[0m\u001b[0mformat\u001b[0m\u001b[0;34m(\u001b[0m\u001b[0mmse\u001b[0m\u001b[0;34m(\u001b[0m\u001b[0mX1_val\u001b[0m\u001b[0;34m,\u001b[0m \u001b[0mX2_val\u001b[0m\u001b[0;34m,\u001b[0m \u001b[0mY_val\u001b[0m\u001b[0;34m,\u001b[0m \u001b[0mverbose\u001b[0m\u001b[0;34m=\u001b[0m\u001b[0mTrue\u001b[0m\u001b[0;34m)\u001b[0m\u001b[0;34m)\u001b[0m\u001b[0;34m)\u001b[0m\u001b[0;34m\u001b[0m\u001b[0m\n\u001b[0m",
      "\u001b[0;32m<ipython-input-670-c90101bfa01f>\u001b[0m in \u001b[0;36mmse\u001b[0;34m(X1, X2, Y, verbose)\u001b[0m\n\u001b[1;32m     11\u001b[0m                 prediction))\n\u001b[1;32m     12\u001b[0m         \u001b[0msum_\u001b[0m \u001b[0;34m+=\u001b[0m \u001b[0mfloat\u001b[0m\u001b[0;34m(\u001b[0m\u001b[0mgt\u001b[0m \u001b[0;34m-\u001b[0m \u001b[0mprediction\u001b[0m\u001b[0;34m)\u001b[0m\u001b[0;34m**\u001b[0m\u001b[0;36m2\u001b[0m\u001b[0;34m\u001b[0m\u001b[0m\n\u001b[0;32m---> 13\u001b[0;31m     \u001b[0;32mreturn\u001b[0m \u001b[0;34m'MSE: {}'\u001b[0m\u001b[0;34m.\u001b[0m\u001b[0mformat\u001b[0m\u001b[0;34m(\u001b[0m\u001b[0msum_\u001b[0m \u001b[0;34m/\u001b[0m \u001b[0mlen\u001b[0m\u001b[0;34m(\u001b[0m\u001b[0mX1\u001b[0m\u001b[0;34m)\u001b[0m\u001b[0;34m)\u001b[0m\u001b[0;34m\u001b[0m\u001b[0m\n\u001b[0m\u001b[1;32m     14\u001b[0m \u001b[0;34m\u001b[0m\u001b[0m\n\u001b[1;32m     15\u001b[0m \u001b[0;32mprint\u001b[0m\u001b[0;34m(\u001b[0m\u001b[0;34m'train: {}'\u001b[0m\u001b[0;34m.\u001b[0m\u001b[0mformat\u001b[0m\u001b[0;34m(\u001b[0m\u001b[0mmse\u001b[0m\u001b[0;34m(\u001b[0m\u001b[0mX1_train\u001b[0m\u001b[0;34m,\u001b[0m \u001b[0mX2_train\u001b[0m\u001b[0;34m,\u001b[0m \u001b[0mY_train\u001b[0m\u001b[0;34m)\u001b[0m\u001b[0;34m)\u001b[0m\u001b[0;34m)\u001b[0m\u001b[0;34m\u001b[0m\u001b[0m\n",
      "\u001b[0;31mZeroDivisionError\u001b[0m: integer division or modulo by zero"
     ]
    }
   ],
   "source": [
    "def mse(X1, X2, Y, verbose=False):\n",
    "    sum_ = 0\n",
    "    for i in range(len(X1)):\n",
    "        prediction = best_model.predict({'main_input': X1[i:i+1], 'aux_input': X2[i:i+1]})\n",
    "        prediction = prediction[0][0][0] * MAX_SURVIVAL  # Select main_output\n",
    "        gt = Y.values[i] * MAX_SURVIVAL\n",
    "        if verbose:\n",
    "            print('Age: {}, GT: {}, Prediction: {}'.format(\n",
    "                X2[i].argmax(),\n",
    "                gt,\n",
    "                prediction))\n",
    "        sum_ += float(gt - prediction)**2\n",
    "    return 'MSE: {}'.format(sum_ / len(X1))\n",
    "\n",
    "print('train: {}'.format(mse(X1_train, X2_train, Y_train)))\n",
    "print('test: {}'.format(mse(X1_test, X2_test, Y_test, verbose=True)))\n",
    "print('val: {}'.format(mse(X1_val, X2_val, Y_val, verbose=True)))"
   ]
  },
  {
   "cell_type": "markdown",
   "metadata": {},
   "source": [
    "## Evaluate network on validation data"
   ]
  },
  {
   "cell_type": "code",
   "execution_count": null,
   "metadata": {
    "collapsed": true
   },
   "outputs": [],
   "source": [
    "val_df = pd.read_csv(\"val_data/survival_evaluation.csv\")\n",
    "val_orig_X = np.load('data/val_tumors_small_nz.npy').transpose((0, 2, 1, 3, 4))\n",
    "enc_table = np.eye(AGE_CLASSES)\n",
    "X1_val = val_orig_X[:, :, :, :, :].sum(axis=2)\n",
    "X2_val = np.array([enc_table[int(round(x))] for x in val_df['Age']])\n",
    "prediction = model.predict({'main_input': X1_val, 'aux_input': X2_val})\n",
    "prediction = np.array(prediction)[0, :, 0]\n",
    "\n",
    "val_output = pd.DataFrame(columns=['Brats17ID', 'Output', 'Survival'])\n",
    "val_output['Brats17ID'] = val_df['Brats17ID']\n",
    "val_output['Output'] = prediction\n",
    "val_output['Survival'] = prediction * MAX_SURVIVAL\n",
    "val_output.to_csv('analysis/val_results.csv' ,index=False)"
   ]
  },
  {
   "cell_type": "code",
   "execution_count": null,
   "metadata": {
    "collapsed": true
   },
   "outputs": [],
   "source": [
    "!head val_data/survival_evaluation.csv"
   ]
  }
 ],
 "metadata": {
  "kernelspec": {
   "display_name": "Python 2",
   "language": "python",
   "name": "python2"
  },
  "language_info": {
   "codemirror_mode": {
    "name": "ipython",
    "version": 2
   },
   "file_extension": ".py",
   "mimetype": "text/x-python",
   "name": "python",
   "nbconvert_exporter": "python",
   "pygments_lexer": "ipython2",
   "version": "2.7.12"
  }
 },
 "nbformat": 4,
 "nbformat_minor": 1
}
