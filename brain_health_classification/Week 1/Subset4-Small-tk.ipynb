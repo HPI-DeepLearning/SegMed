{
 "cells": [
  {
   "cell_type": "code",
   "execution_count": 11,
   "metadata": {},
   "outputs": [
    {
     "data": {
      "text/plain": [
       "[name: \"/cpu:0\"\n",
       " device_type: \"CPU\"\n",
       " memory_limit: 268435456\n",
       " locality {\n",
       " }\n",
       " incarnation: 10360920341669371029, name: \"/gpu:0\"\n",
       " device_type: \"GPU\"\n",
       " memory_limit: 104857600\n",
       " locality {\n",
       "   bus_id: 1\n",
       " }\n",
       " incarnation: 6932900788083646873\n",
       " physical_device_desc: \"device: 0, name: GeForce GTX 780, pci bus id: 0000:02:00.0\"]"
      ]
     },
     "execution_count": 11,
     "metadata": {},
     "output_type": "execute_result"
    }
   ],
   "source": [
    "import numpy as np\n",
    "import pandas as pd\n",
    "import keras\n",
    "import tensorflow as tf\n",
    "from tensorflow.python.client import device_lib\n",
    "# Plotting samples\n",
    "from matplotlib import pyplot as plt\n",
    "# Visualizing the model of the NN\n",
    "from IPython.display import SVG\n",
    "from keras.utils.vis_utils import model_to_dot\n",
    "# from keras.callbacks import History\n",
    "%matplotlib inline\n",
    "\n",
    "device_lib.list_local_devices() "
   ]
  },
  {
   "cell_type": "code",
   "execution_count": null,
   "metadata": {
    "collapsed": true
   },
   "outputs": [],
   "source": [
    "def get_shuffled_splitted_data(path):\n",
    "    df = pd.read_csv(path)\n",
    "\n",
    "    # Shuffle and split data\n",
    "    X_train, X_test, X_val = np.split(df.sample(frac=1), [int(.7*len(df)), int(.9*len(df))])\n",
    "    \n",
    "    # Pop labels and transform them to vectors\n",
    "    y_train, y_test, y_val = X_train.pop(\"label\"), X_test.pop(\"label\"), X_val.pop(\"label\")\n",
    "    y_train, y_test, y_val = y_train.values.reshape((-1, 1)), y_test.values.reshape((-1, 1)), y_val.values.reshape((-1, 1))\n",
    "    \n",
    "    # Reshape the features for CNN\n",
    "    X_train = X_train.as_matrix().reshape(X_train.shape[0], 1, 124, 124)\n",
    "    X_test = X_test.as_matrix().reshape(X_test.shape[0], 1, 124, 124)\n",
    "    X_val = X_val.as_matrix().reshape(X_val.shape[0], 1, 124, 124)\n",
    "    \n",
    "    # Norm data\n",
    "    X_train = X_train.astype('float32')\n",
    "    X_test = X_test.astype('float32')\n",
    "    X_val = X_val.astype('float32')\n",
    "    X_train /= 255\n",
    "    X_test /= 255\n",
    "    X_val /= 255\n",
    "    \n",
    "    # Convert labels to categorical values\n",
    "    y_train = keras.utils.to_categorical(y_train, 2)\n",
    "    y_test = keras.utils.to_categorical(y_test, 2)\n",
    "    y_val = keras.utils.to_categorical(y_val, 2)\n",
    "    \n",
    "    return X_train, y_train, X_test, y_test, X_val, y_val\n",
    "    \n",
    "X_train, y_train, X_test, y_test, X_val, y_val = get_shuffled_splitted_data('data/subset-4-All.txt.csv')"
   ]
  },
  {
   "cell_type": "code",
   "execution_count": null,
   "metadata": {},
   "outputs": [
    {
     "name": "stdout",
     "output_type": "stream",
     "text": [
      "X_train shape: (14001, 1, 124, 124)\n",
      "2001 validation samples\n",
      "Train on 14001 samples, validate on 4000 samples\n",
      "Epoch 1/5\n",
      "14001/14001 [==============================] - 1144s - loss: 0.0159 - acc: 0.9944 - val_loss: 5.8185e-05 - val_acc: 1.0000\n",
      "Epoch 2/5\n",
      " 8160/14001 [================>.............] - ETA: 413s - loss: 7.4513e-05 - acc: 1.0000"
     ]
    }
   ],
   "source": [
    "with tf.device('/cpu:0'):\n",
    "\n",
    "    import keras\n",
    "    from keras.preprocessing.image import ImageDataGenerator\n",
    "    from keras.models import Sequential\n",
    "    from keras.layers import Dense, Dropout, Activation, Flatten\n",
    "    from keras.layers import Conv2D, MaxPooling2D\n",
    "    from keras import backend as K\n",
    "    from keras.losses import categorical_crossentropy\n",
    "    from keras.optimizers import Adadelta\n",
    "    K.set_image_dim_ordering('th')\n",
    "\n",
    "    batch_size = 32\n",
    "    num_classes = 2\n",
    "    epochs = 5\n",
    "    history = keras.callbacks.History()  # For storing the validation loss values\n",
    "\n",
    "    # The data, shuffled and split between train and test sets:\n",
    "    print('X_train shape:', X_train.shape)\n",
    "    print(X_val.shape[0], 'validation samples')\n",
    "\n",
    "    # TODO: Evaluate if using leaky relu, elu or MaxOut is better than just relu\n",
    "    model = Sequential()\n",
    "    model.add(Conv2D(32, kernel_size=(5, 5), activation='relu', input_shape=(1, 124, 124)))\n",
    "    model.add(MaxPooling2D(pool_size=(2, 2)))\n",
    "    model.add(Conv2D(64, (5, 5), activation='relu'))\n",
    "    model.add(MaxPooling2D(pool_size=(2, 2)))\n",
    "    model.add(Dropout(0.25))\n",
    "    model.add(Flatten())\n",
    "    model.add(Dense(128, activation='relu'))\n",
    "    model.add(Dropout(0.5))\n",
    "    model.add(Dense(num_classes, activation='softmax'))\n",
    "\n",
    "    model.compile(loss=categorical_crossentropy,\n",
    "                  optimizer=Adadelta(),\n",
    "                  metrics=['accuracy'])\n",
    "\n",
    "    # TODO: Evaluate if centering image data is better (https://keras.io/preprocessing/image/)\n",
    "    hist = model.fit(X_train, y_train,\n",
    "              batch_size=batch_size,\n",
    "              epochs=epochs,\n",
    "              verbose=1,\n",
    "              validation_data=(X_test, y_test),\n",
    "              callbacks=[history])\n",
    "\n",
    "    test_score = model.evaluate(X_test, y_test, verbose=0)\n",
    "    print('Test loss:', test_score[0])\n",
    "    print('Test accuracy:', test_score[1])\n",
    "\n",
    "    val_score = model.evaluate(X_val, y_val, verbose=0)\n",
    "    print('Val loss:', val_score[0])\n",
    "    print('Val accuracy:', val_score[1])"
   ]
  },
  {
   "cell_type": "code",
   "execution_count": null,
   "metadata": {},
   "outputs": [],
   "source": [
    "val_score = model.evaluate(X_val, y_val, verbose=0)\n",
    "print('Val loss:', val_score[0])\n",
    "print('Val accuracy:', val_score[1])"
   ]
  },
  {
   "cell_type": "code",
   "execution_count": 5,
   "metadata": {},
   "outputs": [
    {
     "name": "stdout",
     "output_type": "stream",
     "text": [
      "_________________________________________________________________\n",
      "Layer (type)                 Output Shape              Param #   \n",
      "=================================================================\n",
      "conv2d_1 (Conv2D)            (None, 32, 120, 120)      832       \n",
      "_________________________________________________________________\n",
      "max_pooling2d_1 (MaxPooling2 (None, 32, 60, 60)        0         \n",
      "_________________________________________________________________\n",
      "conv2d_2 (Conv2D)            (None, 64, 56, 56)        51264     \n",
      "_________________________________________________________________\n",
      "max_pooling2d_2 (MaxPooling2 (None, 64, 28, 28)        0         \n",
      "_________________________________________________________________\n",
      "dropout_1 (Dropout)          (None, 64, 28, 28)        0         \n",
      "_________________________________________________________________\n",
      "flatten_1 (Flatten)          (None, 50176)             0         \n",
      "_________________________________________________________________\n",
      "dense_1 (Dense)              (None, 128)               6422656   \n",
      "_________________________________________________________________\n",
      "dropout_2 (Dropout)          (None, 128)               0         \n",
      "_________________________________________________________________\n",
      "dense_2 (Dense)              (None, 2)                 258       \n",
      "=================================================================\n",
      "Total params: 6,475,010\n",
      "Trainable params: 6,475,010\n",
      "Non-trainable params: 0\n",
      "_________________________________________________________________\n"
     ]
    }
   ],
   "source": [
    "model.summary()"
   ]
  },
  {
   "cell_type": "code",
   "execution_count": null,
   "metadata": {
    "collapsed": true
   },
   "outputs": [],
   "source": [
    "plt.plot(hist.history['loss'])"
   ]
  },
  {
   "cell_type": "code",
   "execution_count": null,
   "metadata": {
    "collapsed": true
   },
   "outputs": [],
   "source": [
    "from IPython.display import SVG\n",
    "from keras.utils.vis_utils import model_to_dot\n",
    "y_test_pred = model.predict(X_test, batch_size=32, verbose=0)\n",
    "y_test_pred = np.round(y_test_pred).astype(int)\n",
    "\n",
    "def plot_sample(ax, sample, title):\n",
    "    # The first line contains 65000 values for any reason\n",
    "    img = sample.reshape(124, 124)[1:, 1:]\n",
    "    ax.imshow(img, cmap='gray',  interpolation='nearest')\n",
    "    ax.axis('off')\n",
    "    ax.set_title(title)\n",
    "\n",
    "def has_tumor(one_hot_vector):\n",
    "    return one_hot_vector.argmax()\n",
    "    \n",
    "def plot_samples(count, samples, labels, predicted, main_title):\n",
    "    # Shuffle datapoints\n",
    "    idx = np.random.choice(np.arange(samples.shape[0]), count, replace=False)\n",
    "    samples, labels, predicted = (samples[idx], labels[idx], predicted[idx])\n",
    "    cols = 4\n",
    "    rows = count // cols\n",
    "    assert rows * cols == count, 'Number of samples must be a multiple of 4'\n",
    "    fig, axes = plt.subplots(rows, cols, figsize=(16, rows * 4))\n",
    "    for i, ax in enumerate(axes.flat):\n",
    "        plot_sample(ax, samples[i], '#{}, Tumor: {}, Predicted: {}'.format(\n",
    "            idx[i], has_tumor(labels[i]), has_tumor(predicted[i])))\n",
    "    fig.suptitle(main_title)\n",
    "\n",
    "# Always the same results\n",
    "np.random.seed(0)\n",
    "plot_samples(4, X_test, y_test, y_test_pred, 'Testing set')\n",
    "no_tumors = y_test.argmax(axis=1) == 0\n",
    "plot_samples(4, X_test[no_tumors], y_test[no_tumors],\n",
    "             y_test_pred[no_tumors], 'Testing set - No tumor')\n",
    "plot_samples(4, X_test[no_tumors == False], y_test[no_tumors == False],\n",
    "             y_test_pred[no_tumors == False], 'Testing set - Tumor')\n",
    "\n",
    "keras.utils.plot_model(model, show_shapes=True, to_file='model-Small-tk.png')\n",
    "SVG(model_to_dot(model, show_shapes=True).create(prog='dot', format='svg'))"
   ]
  }
 ],
 "metadata": {
  "kernelspec": {
   "display_name": "Python 3",
   "language": "python",
   "name": "python3"
  },
  "language_info": {
   "codemirror_mode": {
    "name": "ipython",
    "version": 3
   },
   "file_extension": ".py",
   "mimetype": "text/x-python",
   "name": "python",
   "nbconvert_exporter": "python",
   "pygments_lexer": "ipython3",
   "version": "3.5.2"
  }
 },
 "nbformat": 4,
 "nbformat_minor": 2
}
