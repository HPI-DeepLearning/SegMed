{
 "cells": [
  {
   "cell_type": "code",
   "execution_count": 1,
   "metadata": {},
   "outputs": [
    {
     "name": "stderr",
     "output_type": "stream",
     "text": [
      "Using TensorFlow backend.\n"
     ]
    },
    {
     "data": {
      "text/plain": [
       "[name: \"/cpu:0\"\n",
       " device_type: \"CPU\"\n",
       " memory_limit: 268435456\n",
       " locality {\n",
       " }\n",
       " incarnation: 8706852103100078407, name: \"/gpu:0\"\n",
       " device_type: \"GPU\"\n",
       " memory_limit: 2790653952\n",
       " locality {\n",
       "   bus_id: 1\n",
       " }\n",
       " incarnation: 7597354716815585971\n",
       " physical_device_desc: \"device: 0, name: GeForce GTX 780, pci bus id: 0000:02:00.0\"]"
      ]
     },
     "execution_count": 1,
     "metadata": {},
     "output_type": "execute_result"
    }
   ],
   "source": [
    "import numpy as np\n",
    "import pandas as pd\n",
    "import keras\n",
    "import tensorflow as tf\n",
    "from tensorflow.python.client import device_lib\n",
    "device_lib.list_local_devices() "
   ]
  },
  {
   "cell_type": "code",
   "execution_count": 2,
   "metadata": {
    "collapsed": true
   },
   "outputs": [],
   "source": [
    "side_length = 124 # side lenght of the images"
   ]
  },
  {
   "cell_type": "code",
   "execution_count": 6,
   "metadata": {},
   "outputs": [],
   "source": [
    "def get_shuffled_splitted_data(path):\n",
    "    df = pd.read_csv(path)\n",
    "\n",
    "    # Shuffle and split data\n",
    "    \n",
    "    X_train, X_test, X_val = np.split(df.sample(frac=1), [int(.7*len(df)), int(.9*len(df))])\n",
    "    \n",
    "    # Pop labels and transform them to vectors\n",
    "    y_train, y_test, y_val = X_train.pop(\"label\"), X_test.pop(\"label\"), X_val.pop(\"label\")\n",
    "    y_train, y_test, y_val = y_train.values.reshape((-1, 1)), y_test.values.reshape((-1, 1)), y_val.values.reshape((-1, 1))\n",
    "    \n",
    "    # Reshape the features for CNN\n",
    "    X_train = X_train.as_matrix().reshape(X_train.shape[0], 1, side_length, side_length)\n",
    "    X_test = X_test.as_matrix().reshape(X_test.shape[0], 1, side_length, side_length)\n",
    "    X_val = X_val.as_matrix().reshape(X_val.shape[0], 1, side_length, side_length)\n",
    "    \n",
    "    # Norm data\n",
    "    X_train = X_train.astype('float32')\n",
    "    X_test = X_test.astype('float32')\n",
    "    X_val = X_val.astype('float32')\n",
    "    X_train /= 255\n",
    "    X_test /= 255\n",
    "    X_val /= 255\n",
    "    \n",
    "    # Convert labels to categorical values\n",
    "    y_train = keras.utils.to_categorical(y_train, 2)\n",
    "    y_test = keras.utils.to_categorical(y_test, 2)\n",
    "    y_val = keras.utils.to_categorical(y_val, 2)\n",
    "    \n",
    "    return X_train, y_train, X_test, y_test, X_val, y_val\n",
    "    \n",
    "X_train, y_train, X_test, y_test, X_val, y_val = get_shuffled_splitted_data('../data/subset-2-HnyTnz.txt.csv')"
   ]
  },
  {
   "cell_type": "code",
   "execution_count": null,
   "metadata": {},
   "outputs": [],
   "source": [
    "with tf.device('/gpu:0'):\n",
    "\n",
    "    import keras\n",
    "    from keras.preprocessing.image import ImageDataGenerator\n",
    "    from keras.models import Sequential\n",
    "    from keras.layers import Dense, Dropout, Activation, Flatten, Cropping2D\n",
    "    from keras.layers import Conv2D, MaxPooling2D, AveragePooling2D\n",
    "    from keras import backend as K\n",
    "    from keras.losses import categorical_crossentropy\n",
    "    from keras.optimizers import Adadelta, Nadam\n",
    "    K.set_image_dim_ordering('th')\n",
    "\n",
    "    batch_size = 32\n",
    "    num_classes = 2\n",
    "    epochs = 4\n",
    "\n",
    "    # The data, shuffled and split between train and test sets:\n",
    "    print('X_train shape:', X_train.shape)\n",
    "    print(X_train.shape[0], 'train samples')\n",
    "    print(X_test.shape[0], 'test samples')\n",
    "    print(X_val.shape[0], 'validation samples')\n",
    "\n",
    "    model = Sequential()\n",
    "  \n",
    "    model.add(Cropping2D(cropping=((0, 0), (62, 61)), input_shape=(1, side_length, side_length)))\n",
    "  \n",
    "    model.add(Conv2D(16, (1, 1)))\n",
    "    \n",
    "    model.add(Flatten())\n",
    "    #model.add(Dense(5))\n",
    "    model.add(Dense(10))\n",
    "    model.add(Dense(num_classes, activation='softmax'))\n",
    "\n",
    "    model.compile(loss=categorical_crossentropy,\n",
    "                  optimizer=Nadam(),\n",
    "                  metrics=['accuracy'])\n",
    "\n",
    "    model.fit(X_train, y_train,\n",
    "              batch_size=batch_size,\n",
    "              epochs=epochs,\n",
    "              verbose=1,\n",
    "              validation_data=(X_val, y_val))\n",
    "\n",
    "    test_score = model.evaluate(X_test, y_test, verbose=0)\n",
    "    print('Test loss:', test_score[0])\n",
    "    print('Test accuracy:', test_score[1])\n",
    "    \n",
    "    val_score = model.evaluate(X_val, y_val, verbose=0)\n",
    "    print('Val loss:', val_score[0])\n",
    "    print('Val accuracy:', val_score[1])"
   ]
  },
  {
   "cell_type": "code",
   "execution_count": 7,
   "metadata": {
    "scrolled": true
   },
   "outputs": [
    {
     "ename": "NameError",
     "evalue": "name 'model' is not defined",
     "output_type": "error",
     "traceback": [
      "\u001b[0;31m---------------------------------------------------------------------------\u001b[0m",
      "\u001b[0;31mNameError\u001b[0m                                 Traceback (most recent call last)",
      "\u001b[0;32m<ipython-input-7-9a7881f870d4>\u001b[0m in \u001b[0;36m<module>\u001b[0;34m()\u001b[0m\n\u001b[0;32m----> 1\u001b[0;31m \u001b[0mmodel\u001b[0m\u001b[0;34m.\u001b[0m\u001b[0msummary\u001b[0m\u001b[0;34m(\u001b[0m\u001b[0;34m)\u001b[0m\u001b[0;34m\u001b[0m\u001b[0m\n\u001b[0m",
      "\u001b[0;31mNameError\u001b[0m: name 'model' is not defined"
     ]
    }
   ],
   "source": [
    "model.summary()"
   ]
  },
  {
   "cell_type": "code",
   "execution_count": null,
   "metadata": {
    "collapsed": true
   },
   "outputs": [],
   "source": [
    "model"
   ]
  },
  {
   "cell_type": "code",
   "execution_count": null,
   "metadata": {
    "collapsed": true
   },
   "outputs": [],
   "source": [
    "from IPython.display import SVG\n",
    "from keras.utils.vis_utils import model_to_dot\n",
    "y_test_pred = model.predict(X_test, batch_size=32, verbose=0)\n",
    "y_test_pred = np.round(y_test_pred).astype(int)\n",
    "\n",
    "def plot_sample(ax, sample, title):\n",
    "    # The first line contains 65000 values for any reason\n",
    "    img = sample.reshape(124, 124)[1:, 1:]\n",
    "    ax.imshow(img, cmap='gray',  interpolation='nearest')\n",
    "    ax.axis('off')\n",
    "    ax.set_title(title)\n",
    "\n",
    "def has_tumor(one_hot_vector):\n",
    "    return one_hot_vector.argmax()\n",
    "    \n",
    "def plot_samples(count, samples, labels, predicted, main_title):\n",
    "    # Shuffle datapoints\n",
    "    idx = np.random.choice(np.arange(samples.shape[0]), count, replace=False)\n",
    "    samples, labels, predicted = (samples[idx], labels[idx], predicted[idx])\n",
    "    cols = 4\n",
    "    rows = count // cols\n",
    "    assert rows * cols == count, 'Number of samples must be a multiple of 4'\n",
    "    fig, axes = plt.subplots(rows, cols, figsize=(16, rows * 4))\n",
    "    for i, ax in enumerate(axes.flat):\n",
    "        plot_sample(ax, samples[i], '#{}, Tumor: {}, Predicted: {}'.format(\n",
    "            idx[i], has_tumor(labels[i]), has_tumor(predicted[i])))\n",
    "    fig.suptitle(main_title)\n",
    "\n",
    "# Always the same results\n",
    "np.random.seed(0)\n",
    "plot_samples(4, X_test, y_test, y_test_pred, 'Testing set')\n",
    "no_tumors = y_test.argmax(axis=1) == 0\n",
    "plot_samples(4, X_test[no_tumors], y_test[no_tumors],\n",
    "             y_test_pred[no_tumors], 'Testing set - No tumor')\n",
    "plot_samples(4, X_test[no_tumors == False], y_test[no_tumors == False],\n",
    "             y_test_pred[no_tumors == False], 'Testing set - Tumor')\n",
    "\n",
    "keras.utils.plot_model(model, show_shapes=True, to_file='model-Small-tk.png')\n",
    "SVG(model_to_dot(model, show_shapes=True).create(prog='dot', format='svg'))"
   ]
  },
  {
   "cell_type": "code",
   "execution_count": null,
   "metadata": {
    "collapsed": true
   },
   "outputs": [],
   "source": []
  }
 ],
 "metadata": {
  "kernelspec": {
   "display_name": "Python 3",
   "language": "python",
   "name": "python3"
  },
  "language_info": {
   "codemirror_mode": {
    "name": "ipython",
    "version": 3
   },
   "file_extension": ".py",
   "mimetype": "text/x-python",
   "name": "python",
   "nbconvert_exporter": "python",
   "pygments_lexer": "ipython3",
   "version": "3.5.2"
  }
 },
 "nbformat": 4,
 "nbformat_minor": 2
}
