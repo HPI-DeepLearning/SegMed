{
 "cells": [
  {
   "cell_type": "code",
   "execution_count": 1,
   "metadata": {},
   "outputs": [
    {
     "name": "stderr",
     "output_type": "stream",
     "text": [
      "Using TensorFlow backend.\n"
     ]
    },
    {
     "data": {
      "text/plain": [
       "[name: \"/cpu:0\"\n",
       " device_type: \"CPU\"\n",
       " memory_limit: 268435456\n",
       " locality {\n",
       " }\n",
       " incarnation: 1200915790785680602, name: \"/gpu:0\"\n",
       " device_type: \"GPU\"\n",
       " memory_limit: 2790653952\n",
       " locality {\n",
       "   bus_id: 1\n",
       " }\n",
       " incarnation: 4604696554727198697\n",
       " physical_device_desc: \"device: 0, name: GeForce GTX 780, pci bus id: 0000:02:00.0\"]"
      ]
     },
     "execution_count": 1,
     "metadata": {},
     "output_type": "execute_result"
    }
   ],
   "source": [
    "import numpy as np\n",
    "import pandas as pd\n",
    "import keras\n",
    "import tensorflow as tf\n",
    "from tensorflow.python.client import device_lib\n",
    "device_lib.list_local_devices() "
   ]
  },
  {
   "cell_type": "code",
   "execution_count": 2,
   "metadata": {
    "collapsed": true
   },
   "outputs": [],
   "source": [
    "def get_shuffled_splitted_data(path):\n",
    "    df = pd.read_csv(path)\n",
    "\n",
    "    # Shuffle and split data\n",
    "    X_train, X_test, X_val = np.split(df.sample(frac=1), [int(.7*len(df)), int(.9*len(df))])\n",
    "    \n",
    "    # Pop labels and transform them to vectors\n",
    "    y_train, y_test, y_val = X_train.pop(\"label\"), X_test.pop(\"label\"), X_val.pop(\"label\")\n",
    "    y_train, y_test, y_val = y_train.values.reshape((-1, 1)), y_test.values.reshape((-1, 1)), y_val.values.reshape((-1, 1))\n",
    "    \n",
    "    # Reshape the features for CNN\n",
    "    X_train = X_train.as_matrix().reshape(X_train.shape[0], 1, 124, 124)\n",
    "    X_test = X_test.as_matrix().reshape(X_test.shape[0], 1, 124, 124)\n",
    "    X_val = X_val.as_matrix().reshape(X_val.shape[0], 1, 124, 124)\n",
    "    \n",
    "    # Norm data\n",
    "    X_train = X_train.astype('float32')\n",
    "    X_test = X_test.astype('float32')\n",
    "    X_val = X_val.astype('float32')\n",
    "    X_train /= 255\n",
    "    X_test /= 255\n",
    "    X_val /= 255\n",
    "    \n",
    "    # Convert labels to categorical values\n",
    "    y_train = keras.utils.to_categorical(y_train, 2)\n",
    "    y_test = keras.utils.to_categorical(y_test, 2)\n",
    "    y_val = keras.utils.to_categorical(y_val, 2)\n",
    "    \n",
    "    return X_train, y_train, X_test, y_test, X_val, y_val\n",
    "    \n",
    "X_train, y_train, X_test, y_test, X_val, y_val = get_shuffled_splitted_data('../data/subset-1-HnxTny.txt.csv')"
   ]
  },
  {
   "cell_type": "code",
   "execution_count": 3,
   "metadata": {},
   "outputs": [
    {
     "name": "stdout",
     "output_type": "stream",
     "text": [
      "X_train shape: (5318, 1, 124, 124)\n",
      "5318 train samples\n",
      "1520 test samples\n",
      "760 validation samples\n",
      "Train on 5318 samples, validate on 1520 samples\n",
      "Epoch 1/5\n",
      "5318/5318 [==============================] - 58s - loss: 0.0170 - acc: 0.9947 - val_loss: 4.9530e-04 - val_acc: 1.0000\n",
      "Epoch 2/5\n",
      "5318/5318 [==============================] - 55s - loss: 4.1923e-04 - acc: 1.0000 - val_loss: 3.5732e-05 - val_acc: 1.0000\n",
      "Epoch 3/5\n",
      "5318/5318 [==============================] - 55s - loss: 5.3955e-05 - acc: 1.0000 - val_loss: 6.8296e-06 - val_acc: 1.0000\n",
      "Epoch 4/5\n",
      "5318/5318 [==============================] - 55s - loss: 2.1496e-05 - acc: 1.0000 - val_loss: 2.2771e-06 - val_acc: 1.0000\n",
      "Epoch 5/5\n",
      "5318/5318 [==============================] - 55s - loss: 2.4256e-05 - acc: 1.0000 - val_loss: 2.7635e-06 - val_acc: 1.0000\n",
      "Test loss: 2.76347803842e-06\n",
      "Test accuracy: 1.0\n",
      "Val loss: 3.52140280508e-06\n",
      "Val accuracy: 1.0\n"
     ]
    }
   ],
   "source": [
    "with tf.device('/gpu:0'):\n",
    "\n",
    "    import keras\n",
    "    from keras.preprocessing.image import ImageDataGenerator\n",
    "    from keras.models import Sequential\n",
    "    from keras.layers import Dense, Dropout, Activation, Flatten\n",
    "    from keras.layers import Conv2D, MaxPooling2D\n",
    "    from keras import backend as K\n",
    "    from keras.losses import categorical_crossentropy\n",
    "    from keras.optimizers import Adadelta\n",
    "    K.set_image_dim_ordering('th')\n",
    "\n",
    "    batch_size = 32\n",
    "    num_classes = 2\n",
    "    epochs = 5\n",
    "\n",
    "    # The data, shuffled and split between train and test sets:\n",
    "    print('X_train shape:', X_train.shape)\n",
    "    print(X_train.shape[0], 'train samples')\n",
    "    print(X_test.shape[0], 'test samples')\n",
    "    print(X_val.shape[0], 'validation samples')\n",
    "\n",
    "    model = Sequential()\n",
    "    model.add(Conv2D(32, kernel_size=(3, 3), activation='relu', input_shape=(1, 124, 124)))\n",
    "    model.add(Conv2D(64, (3, 3), activation='relu'))\n",
    "    model.add(MaxPooling2D(pool_size=(2, 2)))\n",
    "    model.add(Dropout(0.25))\n",
    "    model.add(Flatten())\n",
    "    model.add(Dense(128, activation='relu'))\n",
    "    model.add(Dropout(0.5))\n",
    "    model.add(Dense(num_classes, activation='softmax'))\n",
    "\n",
    "    model.compile(loss=categorical_crossentropy,\n",
    "                  optimizer=Adadelta(),\n",
    "                  metrics=['accuracy'])\n",
    "\n",
    "    model.fit(X_train, y_train,\n",
    "              batch_size=batch_size,\n",
    "              epochs=epochs,\n",
    "              verbose=1,\n",
    "              validation_data=(X_test, y_test))\n",
    "\n",
    "    test_score = model.evaluate(X_test, y_test, verbose=0)\n",
    "    print('Test loss:', test_score[0])\n",
    "    print('Test accuracy:', test_score[1])\n",
    "    \n",
    "    val_score = model.evaluate(X_val, y_val, verbose=0)\n",
    "    print('Val loss:', val_score[0])\n",
    "    print('Val accuracy:', val_score[1])"
   ]
  },
  {
   "cell_type": "code",
   "execution_count": 40,
   "metadata": {},
   "outputs": [
    {
     "name": "stdout",
     "output_type": "stream",
     "text": [
      "Working on filters: [0]\n"
     ]
    },
    {
     "ename": "ValueError",
     "evalue": "Cannot feed value of shape (1, 124, 124, 1) for Tensor 'conv2d_1_input:0', which has shape '(?, 1, 124, 124)'",
     "output_type": "error",
     "traceback": [
      "\u001b[0;31m---------------------------------------------------------------------------\u001b[0m",
      "\u001b[0;31mValueError\u001b[0m                                Traceback (most recent call last)",
      "\u001b[0;32m<ipython-input-40-59a2f0a62300>\u001b[0m in \u001b[0;36m<module>\u001b[0;34m()\u001b[0m\n\u001b[1;32m     20\u001b[0m \u001b[0;31m# Here we are asking it to show attention such that prob of `pred_class` is maximized.\u001b[0m\u001b[0;34m\u001b[0m\u001b[0;34m\u001b[0m\u001b[0m\n\u001b[1;32m     21\u001b[0m \u001b[0mseed_img\u001b[0m \u001b[0;34m=\u001b[0m \u001b[0mnp\u001b[0m\u001b[0;34m.\u001b[0m\u001b[0mswapaxes\u001b[0m\u001b[0;34m(\u001b[0m\u001b[0mseed_img\u001b[0m\u001b[0;34m,\u001b[0m \u001b[0;36m0\u001b[0m\u001b[0;34m,\u001b[0m \u001b[0;36m1\u001b[0m\u001b[0;34m)\u001b[0m\u001b[0;34m\u001b[0m\u001b[0m\n\u001b[0;32m---> 22\u001b[0;31m \u001b[0mheatmap\u001b[0m \u001b[0;34m=\u001b[0m \u001b[0mvisualize_saliency\u001b[0m\u001b[0;34m(\u001b[0m\u001b[0mmodel\u001b[0m\u001b[0;34m,\u001b[0m \u001b[0mlayer_idx\u001b[0m\u001b[0;34m,\u001b[0m \u001b[0;34m[\u001b[0m\u001b[0mpred_class\u001b[0m\u001b[0;34m]\u001b[0m\u001b[0;34m,\u001b[0m \u001b[0mseed_img\u001b[0m\u001b[0;34m)\u001b[0m\u001b[0;34m\u001b[0m\u001b[0m\n\u001b[0m\u001b[1;32m     23\u001b[0m \u001b[0mheatmaps\u001b[0m\u001b[0;34m.\u001b[0m\u001b[0mappend\u001b[0m\u001b[0;34m(\u001b[0m\u001b[0mheatmap\u001b[0m\u001b[0;34m)\u001b[0m\u001b[0;34m\u001b[0m\u001b[0m\n\u001b[1;32m     24\u001b[0m \u001b[0;34m\u001b[0m\u001b[0m\n",
      "\u001b[0;32m/mnt/naruto/Seminar-Med-Seg2017/SegMed/segmed/lib/python3.5/site-packages/vis/visualization.py\u001b[0m in \u001b[0;36mvisualize_saliency\u001b[0;34m(model, layer_idx, filter_indices, seed_img, alpha)\u001b[0m\n\u001b[1;32m    157\u001b[0m     ]\n\u001b[1;32m    158\u001b[0m     \u001b[0mopt\u001b[0m \u001b[0;34m=\u001b[0m \u001b[0mOptimizer\u001b[0m\u001b[0;34m(\u001b[0m\u001b[0mmodel\u001b[0m\u001b[0;34m.\u001b[0m\u001b[0minput\u001b[0m\u001b[0;34m,\u001b[0m \u001b[0mlosses\u001b[0m\u001b[0;34m)\u001b[0m\u001b[0;34m\u001b[0m\u001b[0m\n\u001b[0;32m--> 159\u001b[0;31m     \u001b[0mgrads\u001b[0m \u001b[0;34m=\u001b[0m \u001b[0mopt\u001b[0m\u001b[0;34m.\u001b[0m\u001b[0mminimize\u001b[0m\u001b[0;34m(\u001b[0m\u001b[0mmax_iter\u001b[0m\u001b[0;34m=\u001b[0m\u001b[0;36m1\u001b[0m\u001b[0;34m,\u001b[0m \u001b[0mverbose\u001b[0m\u001b[0;34m=\u001b[0m\u001b[0;32mFalse\u001b[0m\u001b[0;34m,\u001b[0m \u001b[0mseed_img\u001b[0m\u001b[0;34m=\u001b[0m\u001b[0mseed_img\u001b[0m\u001b[0;34m)\u001b[0m\u001b[0;34m[\u001b[0m\u001b[0;36m1\u001b[0m\u001b[0;34m]\u001b[0m\u001b[0;34m\u001b[0m\u001b[0m\n\u001b[0m\u001b[1;32m    160\u001b[0m \u001b[0;34m\u001b[0m\u001b[0m\n\u001b[1;32m    161\u001b[0m     \u001b[0;31m# We are minimizing loss as opposed to maximizing output as with the paper.\u001b[0m\u001b[0;34m\u001b[0m\u001b[0;34m\u001b[0m\u001b[0m\n",
      "\u001b[0;32m/mnt/naruto/Seminar-Med-Seg2017/SegMed/segmed/lib/python3.5/site-packages/vis/optimizer.py\u001b[0m in \u001b[0;36mminimize\u001b[0;34m(self, seed_img, max_iter, image_modifiers, callbacks, verbose)\u001b[0m\n\u001b[1;32m    121\u001b[0m \u001b[0;34m\u001b[0m\u001b[0m\n\u001b[1;32m    122\u001b[0m             \u001b[0;31m# 0 learning phase for 'test'\u001b[0m\u001b[0;34m\u001b[0m\u001b[0;34m\u001b[0m\u001b[0m\n\u001b[0;32m--> 123\u001b[0;31m             \u001b[0mcomputed_values\u001b[0m \u001b[0;34m=\u001b[0m \u001b[0mself\u001b[0m\u001b[0;34m.\u001b[0m\u001b[0mcompute_fn\u001b[0m\u001b[0;34m(\u001b[0m\u001b[0;34m[\u001b[0m\u001b[0mseed_img\u001b[0m\u001b[0;34m,\u001b[0m \u001b[0;36m0\u001b[0m\u001b[0;34m]\u001b[0m\u001b[0;34m)\u001b[0m\u001b[0;34m\u001b[0m\u001b[0m\n\u001b[0m\u001b[1;32m    124\u001b[0m             \u001b[0mlosses\u001b[0m \u001b[0;34m=\u001b[0m \u001b[0mcomputed_values\u001b[0m\u001b[0;34m[\u001b[0m\u001b[0;34m:\u001b[0m\u001b[0mlen\u001b[0m\u001b[0;34m(\u001b[0m\u001b[0mself\u001b[0m\u001b[0;34m.\u001b[0m\u001b[0mloss_names\u001b[0m\u001b[0;34m)\u001b[0m\u001b[0;34m]\u001b[0m\u001b[0;34m\u001b[0m\u001b[0m\n\u001b[1;32m    125\u001b[0m             \u001b[0mnamed_losses\u001b[0m \u001b[0;34m=\u001b[0m \u001b[0mzip\u001b[0m\u001b[0;34m(\u001b[0m\u001b[0mself\u001b[0m\u001b[0;34m.\u001b[0m\u001b[0mloss_names\u001b[0m\u001b[0;34m,\u001b[0m \u001b[0mlosses\u001b[0m\u001b[0;34m)\u001b[0m\u001b[0;34m\u001b[0m\u001b[0m\n",
      "\u001b[0;32m/mnt/naruto/Seminar-Med-Seg2017/SegMed/segmed/lib/python3.5/site-packages/keras/backend/tensorflow_backend.py\u001b[0m in \u001b[0;36m__call__\u001b[0;34m(self, inputs)\u001b[0m\n\u001b[1;32m   2227\u001b[0m         \u001b[0msession\u001b[0m \u001b[0;34m=\u001b[0m \u001b[0mget_session\u001b[0m\u001b[0;34m(\u001b[0m\u001b[0;34m)\u001b[0m\u001b[0;34m\u001b[0m\u001b[0m\n\u001b[1;32m   2228\u001b[0m         updated = session.run(self.outputs + [self.updates_op],\n\u001b[0;32m-> 2229\u001b[0;31m                               feed_dict=feed_dict)\n\u001b[0m\u001b[1;32m   2230\u001b[0m         \u001b[0;32mreturn\u001b[0m \u001b[0mupdated\u001b[0m\u001b[0;34m[\u001b[0m\u001b[0;34m:\u001b[0m\u001b[0mlen\u001b[0m\u001b[0;34m(\u001b[0m\u001b[0mself\u001b[0m\u001b[0;34m.\u001b[0m\u001b[0moutputs\u001b[0m\u001b[0;34m)\u001b[0m\u001b[0;34m]\u001b[0m\u001b[0;34m\u001b[0m\u001b[0m\n\u001b[1;32m   2231\u001b[0m \u001b[0;34m\u001b[0m\u001b[0m\n",
      "\u001b[0;32m/mnt/naruto/Seminar-Med-Seg2017/SegMed/segmed/lib/python3.5/site-packages/tensorflow/python/client/session.py\u001b[0m in \u001b[0;36mrun\u001b[0;34m(self, fetches, feed_dict, options, run_metadata)\u001b[0m\n\u001b[1;32m    776\u001b[0m     \u001b[0;32mtry\u001b[0m\u001b[0;34m:\u001b[0m\u001b[0;34m\u001b[0m\u001b[0m\n\u001b[1;32m    777\u001b[0m       result = self._run(None, fetches, feed_dict, options_ptr,\n\u001b[0;32m--> 778\u001b[0;31m                          run_metadata_ptr)\n\u001b[0m\u001b[1;32m    779\u001b[0m       \u001b[0;32mif\u001b[0m \u001b[0mrun_metadata\u001b[0m\u001b[0;34m:\u001b[0m\u001b[0;34m\u001b[0m\u001b[0m\n\u001b[1;32m    780\u001b[0m         \u001b[0mproto_data\u001b[0m \u001b[0;34m=\u001b[0m \u001b[0mtf_session\u001b[0m\u001b[0;34m.\u001b[0m\u001b[0mTF_GetBuffer\u001b[0m\u001b[0;34m(\u001b[0m\u001b[0mrun_metadata_ptr\u001b[0m\u001b[0;34m)\u001b[0m\u001b[0;34m\u001b[0m\u001b[0m\n",
      "\u001b[0;32m/mnt/naruto/Seminar-Med-Seg2017/SegMed/segmed/lib/python3.5/site-packages/tensorflow/python/client/session.py\u001b[0m in \u001b[0;36m_run\u001b[0;34m(self, handle, fetches, feed_dict, options, run_metadata)\u001b[0m\n\u001b[1;32m    959\u001b[0m                 \u001b[0;34m'Cannot feed value of shape %r for Tensor %r, '\u001b[0m\u001b[0;34m\u001b[0m\u001b[0m\n\u001b[1;32m    960\u001b[0m                 \u001b[0;34m'which has shape %r'\u001b[0m\u001b[0;34m\u001b[0m\u001b[0m\n\u001b[0;32m--> 961\u001b[0;31m                 % (np_val.shape, subfeed_t.name, str(subfeed_t.get_shape())))\n\u001b[0m\u001b[1;32m    962\u001b[0m           \u001b[0;32mif\u001b[0m \u001b[0;32mnot\u001b[0m \u001b[0mself\u001b[0m\u001b[0;34m.\u001b[0m\u001b[0mgraph\u001b[0m\u001b[0;34m.\u001b[0m\u001b[0mis_feedable\u001b[0m\u001b[0;34m(\u001b[0m\u001b[0msubfeed_t\u001b[0m\u001b[0;34m)\u001b[0m\u001b[0;34m:\u001b[0m\u001b[0;34m\u001b[0m\u001b[0m\n\u001b[1;32m    963\u001b[0m             \u001b[0;32mraise\u001b[0m \u001b[0mValueError\u001b[0m\u001b[0;34m(\u001b[0m\u001b[0;34m'Tensor %s may not be fed.'\u001b[0m \u001b[0;34m%\u001b[0m \u001b[0msubfeed_t\u001b[0m\u001b[0;34m)\u001b[0m\u001b[0;34m\u001b[0m\u001b[0m\n",
      "\u001b[0;31mValueError\u001b[0m: Cannot feed value of shape (1, 124, 124, 1) for Tensor 'conv2d_1_input:0', which has shape '(?, 1, 124, 124)'"
     ]
    }
   ],
   "source": [
    "import numpy as np\n",
    "from matplotlib import pyplot as plt\n",
    "\n",
    "from keras.preprocessing.image import img_to_array\n",
    "from keras.applications.imagenet_utils import preprocess_input\n",
    "\n",
    "from vis.utils import utils\n",
    "from vis.visualization import visualize_saliency\n",
    "# The name of the layer we want to visualize\n",
    "# (see model definition in vggnet.py)\n",
    "layer_idx = [idx for idx, layer in enumerate(model.layers)][0]\n",
    "\n",
    "heatmaps = []\n",
    "seed_img = X_train[0, :]\n",
    "x = np.expand_dims(img_to_array(seed_img), axis=0)\n",
    "x = preprocess_input(x)\n",
    "x = np.swapaxes(x, 1, 2)\n",
    "pred_class = np.argmax(model.predict(x))\n",
    "\n",
    "# Here we are asking it to show attention such that prob of `pred_class` is maximized.\n",
    "seed_img = np.swapaxes(seed_img, 0, 1)\n",
    "heatmap = visualize_saliency(model, layer_idx, [pred_class], seed_img)\n",
    "heatmaps.append(heatmap)\n",
    "\n",
    "plt.axis('off')\n",
    "plt.imshow(utils.stitch_images(heatmaps))\n",
    "plt.title('Saliency map')\n",
    "plt.show()"
   ]
  },
  {
   "cell_type": "code",
   "execution_count": 3,
   "metadata": {},
   "outputs": [
    {
     "ename": "NameError",
     "evalue": "name 'model' is not defined",
     "output_type": "error",
     "traceback": [
      "\u001b[0;31m---------------------------------------------------------------------------\u001b[0m",
      "\u001b[0;31mNameError\u001b[0m                                 Traceback (most recent call last)",
      "\u001b[0;32m<ipython-input-3-3ee9fc5f8005>\u001b[0m in \u001b[0;36m<module>\u001b[0;34m()\u001b[0m\n\u001b[1;32m      1\u001b[0m \u001b[0;32mfrom\u001b[0m \u001b[0mIPython\u001b[0m\u001b[0;34m.\u001b[0m\u001b[0mdisplay\u001b[0m \u001b[0;32mimport\u001b[0m \u001b[0mSVG\u001b[0m\u001b[0;34m\u001b[0m\u001b[0m\n\u001b[1;32m      2\u001b[0m \u001b[0;32mfrom\u001b[0m \u001b[0mkeras\u001b[0m\u001b[0;34m.\u001b[0m\u001b[0mutils\u001b[0m\u001b[0;34m.\u001b[0m\u001b[0mvis_utils\u001b[0m \u001b[0;32mimport\u001b[0m \u001b[0mmodel_to_dot\u001b[0m\u001b[0;34m\u001b[0m\u001b[0m\n\u001b[0;32m----> 3\u001b[0;31m \u001b[0my_test_pred\u001b[0m \u001b[0;34m=\u001b[0m \u001b[0mmodel\u001b[0m\u001b[0;34m.\u001b[0m\u001b[0mpredict\u001b[0m\u001b[0;34m(\u001b[0m\u001b[0mX_test\u001b[0m\u001b[0;34m,\u001b[0m \u001b[0mbatch_size\u001b[0m\u001b[0;34m=\u001b[0m\u001b[0;36m32\u001b[0m\u001b[0;34m,\u001b[0m \u001b[0mverbose\u001b[0m\u001b[0;34m=\u001b[0m\u001b[0;36m0\u001b[0m\u001b[0;34m)\u001b[0m\u001b[0;34m\u001b[0m\u001b[0m\n\u001b[0m\u001b[1;32m      4\u001b[0m \u001b[0my_test_pred\u001b[0m \u001b[0;34m=\u001b[0m \u001b[0mnp\u001b[0m\u001b[0;34m.\u001b[0m\u001b[0mround\u001b[0m\u001b[0;34m(\u001b[0m\u001b[0my_test_pred\u001b[0m\u001b[0;34m)\u001b[0m\u001b[0;34m.\u001b[0m\u001b[0mastype\u001b[0m\u001b[0;34m(\u001b[0m\u001b[0mint\u001b[0m\u001b[0;34m)\u001b[0m\u001b[0;34m\u001b[0m\u001b[0m\n\u001b[1;32m      5\u001b[0m \u001b[0;34m\u001b[0m\u001b[0m\n",
      "\u001b[0;31mNameError\u001b[0m: name 'model' is not defined"
     ]
    }
   ],
   "source": [
    "from IPython.display import SVG\n",
    "from keras.utils.vis_utils import model_to_dot\n",
    "y_test_pred = model.predict(X_test, batch_size=32, verbose=0)\n",
    "y_test_pred = np.round(y_test_pred).astype(int)\n",
    "\n",
    "def plot_sample(ax, sample, title):\n",
    "    # The first line contains 65000 values for any reason\n",
    "    img = sample.reshape(124, 124)[1:, 1:]\n",
    "    ax.imshow(img, cmap='gray',  interpolation='nearest')\n",
    "    ax.axis('off')\n",
    "    ax.set_title(title)\n",
    "\n",
    "def has_tumor(one_hot_vector):\n",
    "    return one_hot_vector.argmax()\n",
    "    \n",
    "def plot_samples(count, samples, labels, predicted, main_title):\n",
    "    # Shuffle datapoints\n",
    "    idx = np.random.choice(np.arange(samples.shape[0]), count, replace=False)\n",
    "    samples, labels, predicted = (samples[idx], labels[idx], predicted[idx])\n",
    "    cols = 4\n",
    "    rows = count // cols\n",
    "    assert rows * cols == count, 'Number of samples must be a multiple of 4'\n",
    "    fig, axes = plt.subplots(rows, cols, figsize=(16, rows * 4))\n",
    "    for i, ax in enumerate(axes.flat):\n",
    "        plot_sample(ax, samples[i], '#{}, Tumor: {}, Predicted: {}'.format(\n",
    "            idx[i], has_tumor(labels[i]), has_tumor(predicted[i])))\n",
    "    fig.suptitle(main_title)\n",
    "\n",
    "# Always the same results\n",
    "np.random.seed(0)\n",
    "plot_samples(4, X_test, y_test, y_test_pred, 'Testing set')\n",
    "no_tumors = y_test.argmax(axis=1) == 0\n",
    "plot_samples(4, X_test[no_tumors], y_test[no_tumors],\n",
    "             y_test_pred[no_tumors], 'Testing set - No tumor')\n",
    "plot_samples(4, X_test[no_tumors == False], y_test[no_tumors == False],\n",
    "             y_test_pred[no_tumors == False], 'Testing set - Tumor')\n",
    "\n",
    "keras.utils.plot_model(model, show_shapes=True, to_file='model-Small-tk.png')\n",
    "SVG(model_to_dot(model, show_shapes=True).create(prog='dot', format='svg'))"
   ]
  }
 ],
 "metadata": {
  "kernelspec": {
   "display_name": "Python 3",
   "language": "python",
   "name": "python3"
  },
  "language_info": {
   "codemirror_mode": {
    "name": "ipython",
    "version": 3
   },
   "file_extension": ".py",
   "mimetype": "text/x-python",
   "name": "python",
   "nbconvert_exporter": "python",
   "pygments_lexer": "ipython3",
   "version": "3.5.2"
  }
 },
 "nbformat": 4,
 "nbformat_minor": 2
}
