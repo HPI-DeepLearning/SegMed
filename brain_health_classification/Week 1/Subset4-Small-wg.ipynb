{
 "cells": [
  {
   "cell_type": "code",
   "execution_count": 1,
   "metadata": {},
   "outputs": [
    {
     "name": "stderr",
     "output_type": "stream",
     "text": [
      "Using TensorFlow backend.\n"
     ]
    },
    {
     "data": {
      "text/plain": [
       "[name: \"/cpu:0\"\n",
       " device_type: \"CPU\"\n",
       " memory_limit: 268435456\n",
       " locality {\n",
       " }\n",
       " incarnation: 12833045347962333951, name: \"/gpu:0\"\n",
       " device_type: \"GPU\"\n",
       " memory_limit: 183500800\n",
       " locality {\n",
       "   bus_id: 1\n",
       " }\n",
       " incarnation: 6264416952155539887\n",
       " physical_device_desc: \"device: 0, name: GeForce GTX 780, pci bus id: 0000:02:00.0\"]"
      ]
     },
     "execution_count": 1,
     "metadata": {},
     "output_type": "execute_result"
    }
   ],
   "source": [
    "import numpy as np\n",
    "import pandas as pd\n",
    "import kerasa\n",
    "import tensorflow as tf\n",
    "from tensorflow.python.client import device_lib\n",
    "device_lib.list_local_devices() "
   ]
  },
  {
   "cell_type": "code",
   "execution_count": 2,
   "metadata": {
    "collapsed": true
   },
   "outputs": [],
   "source": [
    "def get_shuffled_splitted_data(path):\n",
    "    df = pd.read_csv(path)\n",
    "\n",
    "    # Shuffle and split data\n",
    "    X_train, X_test, X_val = np.split(df.sample(frac=1), [int(.7*len(df)), int(.9*len(df))])\n",
    "    \n",
    "    # Pop labels and transform them to vectors\n",
    "    y_train, y_test, y_val = X_train.pop(\"label\"), X_test.pop(\"label\"), X_val.pop(\"label\")\n",
    "    y_train, y_test, y_val = y_train.values.reshape((-1, 1)), y_test.values.reshape((-1, 1)), y_val.values.reshape((-1, 1))\n",
    "    \n",
    "    # Reshape the features for CNN\n",
    "    X_train = X_train.as_matrix().reshape(X_train.shape[0], 1, 124, 124)\n",
    "    X_test = X_test.as_matrix().reshape(X_test.shape[0], 1, 124, 124)\n",
    "    X_val = X_val.as_matrix().reshape(X_val.shape[0], 1, 124, 124)\n",
    "    \n",
    "    # Norm data\n",
    "    X_train = X_train.astype('float32')\n",
    "    X_test = X_test.astype('float32')\n",
    "    X_val = X_val.astype('float32')\n",
    "    X_train /= 255\n",
    "    X_test /= 255\n",
    "    X_val /= 255\n",
    "    \n",
    "    # Convert labels to categorical values\n",
    "    y_train = keras.utils.to_categorical(y_train, 2)\n",
    "    y_test = keras.utils.to_categorical(y_test, 2)\n",
    "    y_val = keras.utils.to_categorical(y_val, 2)\n",
    "    \n",
    "    return X_train, y_train, X_test, y_test, X_val, y_val\n",
    "    \n",
    "X_train, y_train, X_test, y_test, X_val, y_val = get_shuffled_splitted_data('data/subset-4-All.txt.csv')"
   ]
  },
  {
   "cell_type": "code",
   "execution_count": null,
   "metadata": {},
   "outputs": [
    {
     "name": "stdout",
     "output_type": "stream",
     "text": [
      "X_train shape: (14001, 1, 124, 124)\n",
      "14001 train samples\n",
      "4000 test samples\n",
      "2001 validation samples\n",
      "Train on 14001 samples, validate on 4000 samples\n",
      "Epoch 1/5\n",
      " 2880/14001 [=====>........................] - ETA: 1528s - loss: 0.0466 - acc: 0.9872"
     ]
    }
   ],
   "source": [
    "with tf.device('/cpu:0'):\n",
    "\n",
    "    import keras\n",
    "    from keras.preprocessing.image import ImageDataGenerator\n",
    "    from keras.models import Sequential\n",
    "    from keras.layers import Dense, Dropout, Activation, Flatten\n",
    "    from keras.layers import Conv2D, MaxPooling2D\n",
    "    from keras import backend as K\n",
    "    from keras.losses import categorical_crossentropy\n",
    "    from keras.optimizers import Adadelta\n",
    "    K.set_image_dim_ordering('th')\n",
    "\n",
    "    batch_size = 32\n",
    "    num_classes = 2\n",
    "    epochs = 5\n",
    "\n",
    "    # The data, shuffled and split between train and test sets:\n",
    "    print('X_train shape:', X_train.shape)\n",
    "    print(X_train.shape[0], 'train samples')\n",
    "    print(X_test.shape[0], 'test samples')\n",
    "    print(X_val.shape[0], 'validation samples')\n",
    "\n",
    "    model = Sequential()\n",
    "    model.add(Conv2D(32, kernel_size=(3, 3), activation='relu', input_shape=(1, 124, 124)))\n",
    "    model.add(Conv2D(64, (3, 3), activation='relu'))\n",
    "    model.add(MaxPooling2D(pool_size=(2, 2)))\n",
    "    model.add(Dropout(0.25))\n",
    "    model.add(Flatten())\n",
    "    model.add(Dense(128, activation='relu'))\n",
    "    model.add(Dropout(0.5))\n",
    "    model.add(Dense(num_classes, activation='softmax'))\n",
    "\n",
    "    model.compile(loss=categorical_crossentropy,\n",
    "                  optimizer=Adadelta(),\n",
    "                  metrics=['accuracy'])\n",
    "\n",
    "    model.fit(X_train, y_train,\n",
    "              batch_size=batch_size,\n",
    "              epochs=epochs,\n",
    "              verbose=1,\n",
    "              validation_data=(X_test, y_test))\n",
    "\n",
    "    test_score = model.evaluate(X_test, y_test, verbose=0)\n",
    "    print('Test loss:', test_score[0])\n",
    "    print('Test accuracy:', test_score[1])\n",
    "\n",
    "    val_score = model.evaluate(X_val, y_val, verbose=0)\n",
    "    print('Val loss:', val_score[0])\n",
    "    print('Val accuracy:', val_score[1])"
   ]
  },
  {
   "cell_type": "code",
   "execution_count": 7,
   "metadata": {},
   "outputs": [
    {
     "name": "stdout",
     "output_type": "stream",
     "text": [
      "Val loss: 1.35651958644e-07\n",
      "Val accuracy: 1.0\n"
     ]
    }
   ],
   "source": [
    "val_score = model.evaluate(X_val, y_val, verbose=0)\n",
    "print('Val loss:', val_score[0])\n",
    "print('Val accuracy:', val_score[1])"
   ]
  },
  {
   "cell_type": "code",
   "execution_count": 8,
   "metadata": {},
   "outputs": [
    {
     "name": "stdout",
     "output_type": "stream",
     "text": [
      "_________________________________________________________________\n",
      "Layer (type)                 Output Shape              Param #   \n",
      "=================================================================\n",
      "conv2d_7 (Conv2D)            (None, 32, 122, 122)      320       \n",
      "_________________________________________________________________\n",
      "conv2d_8 (Conv2D)            (None, 64, 120, 120)      18496     \n",
      "_________________________________________________________________\n",
      "max_pooling2d_4 (MaxPooling2 (None, 64, 60, 60)        0         \n",
      "_________________________________________________________________\n",
      "dropout_7 (Dropout)          (None, 64, 60, 60)        0         \n",
      "_________________________________________________________________\n",
      "flatten_4 (Flatten)          (None, 230400)            0         \n",
      "_________________________________________________________________\n",
      "dense_7 (Dense)              (None, 128)               29491328  \n",
      "_________________________________________________________________\n",
      "dropout_8 (Dropout)          (None, 128)               0         \n",
      "_________________________________________________________________\n",
      "dense_8 (Dense)              (None, 2)                 258       \n",
      "=================================================================\n",
      "Total params: 29,510,402\n",
      "Trainable params: 29,510,402\n",
      "Non-trainable params: 0\n",
      "_________________________________________________________________\n"
     ]
    }
   ],
   "source": [
    "model.summaryary()"
   ]
  }
 ],
 "metadata": {
  "kernelspec": {
   "display_name": "Python 3",
   "language": "python",
   "name": "python3"
  },
  "language_info": {
   "codemirror_mode": {
    "name": "ipython",
    "version": 3
   },
   "file_extension": ".py",
   "mimetype": "text/x-python",
   "name": "python",
   "nbconvert_exporter": "python",
   "pygments_lexer": "ipython3",
   "version": "3.5.2"
  }
 },
 "nbformat": 4,
 "nbformat_minor": 2
}
