{
 "cells": [
  {
   "cell_type": "code",
   "execution_count": 1,
   "metadata": {},
   "outputs": [
    {
     "name": "stderr",
     "output_type": "stream",
     "text": [
      "Using TensorFlow backend.\n"
     ]
    },
    {
     "data": {
      "text/plain": [
       "[name: \"/cpu:0\"\n",
       " device_type: \"CPU\"\n",
       " memory_limit: 268435456\n",
       " locality {\n",
       " }\n",
       " incarnation: 15583264866943820827, name: \"/gpu:0\"\n",
       " device_type: \"GPU\"\n",
       " memory_limit: 2790653952\n",
       " locality {\n",
       "   bus_id: 1\n",
       " }\n",
       " incarnation: 9856235368355860618\n",
       " physical_device_desc: \"device: 0, name: GeForce GTX 780, pci bus id: 0000:02:00.0\"]"
      ]
     },
     "execution_count": 1,
     "metadata": {},
     "output_type": "execute_result"
    }
   ],
   "source": [
    "import numpy as np\n",
    "import pandas as pd\n",
    "import keras\n",
    "import tensorflow as tf\n",
    "from tensorflow.python.client import device_lib\n",
    "device_lib.list_local_devices() "
   ]
  },
  {
   "cell_type": "code",
   "execution_count": 2,
   "metadata": {
    "collapsed": true
   },
   "outputs": [],
   "source": [
    "side_length = 124 # side lenght of the images"
   ]
  },
  {
   "cell_type": "code",
   "execution_count": 3,
   "metadata": {
    "collapsed": true
   },
   "outputs": [],
   "source": [
    "def get_shuffled_splitted_data(path):\n",
    "    df = pd.read_csv(path)\n",
    "\n",
    "    # Shuffle and split data\n",
    "    \n",
    "    X_train, X_test, X_val = np.split(df.sample(frac=1), [int(.7*len(df)), int(.9*len(df))])\n",
    "    \n",
    "    # Pop labels and transform them to vectors\n",
    "    y_train, y_test, y_val = X_train.pop(\"label\"), X_test.pop(\"label\"), X_val.pop(\"label\")\n",
    "    y_train, y_test, y_val = y_train.values.reshape((-1, 1)), y_test.values.reshape((-1, 1)), y_val.values.reshape((-1, 1))\n",
    "    \n",
    "    # Reshape the features for CNN\n",
    "    X_train = X_train.as_matrix().reshape(X_train.shape[0], 1, side_length, side_length)\n",
    "    X_test = X_test.as_matrix().reshape(X_test.shape[0], 1, side_length, side_length)\n",
    "    X_val = X_val.as_matrix().reshape(X_val.shape[0], 1, side_length, side_length)\n",
    "    \n",
    "    # Norm data\n",
    "    X_train = X_train.astype('float32')\n",
    "    X_test = X_test.astype('float32')\n",
    "    X_val = X_val.astype('float32')\n",
    "    X_train /= 255\n",
    "    X_test /= 255\n",
    "    X_val /= 255\n",
    "    \n",
    "    # Convert labels to categorical values\n",
    "    y_train = keras.utils.to_categorical(y_train, 2)\n",
    "    y_test = keras.utils.to_categorical(y_test, 2)\n",
    "    y_val = keras.utils.to_categorical(y_val, 2)\n",
    "    \n",
    "    return X_train, y_train, X_test, y_test, X_val, y_val\n",
    "    \n",
    "X_train, y_train, X_test, y_test, X_val, y_val = get_shuffled_splitted_data('data/subset-2-HnyTnz.txt.csv')"
   ]
  },
  {
   "cell_type": "code",
   "execution_count": 80,
   "metadata": {},
   "outputs": [
    {
     "name": "stdout",
     "output_type": "stream",
     "text": [
      "X_train shape: (3497, 1, 124, 124)\n",
      "3497 train samples\n",
      "1000 test samples\n",
      "500 validation samples\n",
      "Train on 3497 samples, validate on 500 samples\n",
      "Epoch 1/4\n",
      "3497/3497 [==============================] - 4s - loss: 0.1227 - acc: 0.9508 - val_loss: 0.0324 - val_acc: 0.9960\n",
      "Epoch 2/4\n",
      "3497/3497 [==============================] - 2s - loss: 0.0340 - acc: 0.9908 - val_loss: 0.0122 - val_acc: 1.0000\n",
      "Epoch 3/4\n",
      "3497/3497 [==============================] - 2s - loss: 0.0084 - acc: 0.9980 - val_loss: 0.0034 - val_acc: 1.0000\n",
      "Epoch 4/4\n",
      "3497/3497 [==============================] - 2s - loss: 0.0030 - acc: 0.9997 - val_loss: 0.0017 - val_acc: 1.0000\n",
      "Test loss: 0.000885369949043\n",
      "Test accuracy: 1.0\n",
      "Val loss: 0.00168039796501\n",
      "Val accuracy: 1.0\n"
     ]
    }
   ],
   "source": [
    "with tf.device('/gpu:0'):\n",
    "\n",
    "    import keras\n",
    "    from keras.preprocessing.image import ImageDataGenerator\n",
    "    from keras.models import Sequential\n",
    "    from keras.layers import Dense, Dropout, Activation, Flatten, Cropping2D\n",
    "    from keras.layers import Conv2D, MaxPooling2D, AveragePooling2D\n",
    "    from keras import backend as K\n",
    "    from keras.losses import categorical_crossentropy\n",
    "    from keras.optimizers import Adadelta, Nadam\n",
    "    K.set_image_dim_ordering('th')\n",
    "\n",
    "    batch_size = 32\n",
    "    num_classes = 2\n",
    "    epochs = 4\n",
    "\n",
    "    # The data, shuffled and split between train and test sets:\n",
    "    print('X_train shape:', X_train.shape)\n",
    "    print(X_train.shape[0], 'train samples')\n",
    "    print(X_test.shape[0], 'test samples')\n",
    "    print(X_val.shape[0], 'validation samples')\n",
    "\n",
    "    model = Sequential()\n",
    "  \n",
    "    model.add(Cropping2D(cropping=((48, 48), (0, 48)), input_shape=(1, side_length, side_length)))\n",
    "  \n",
    "\n",
    "    model.add(Conv2D(4, kernel_size=(3, 3)))\n",
    "    model.add(MaxPooling2D(pool_size=(2, 4)))\n",
    "   \n",
    "    model.add(Conv2D(48, (1, 1)))\n",
    "    \n",
    "    model.add(Flatten())\n",
    "    model.add(Dense(5))\n",
    "    model.add(Dense(10))\n",
    "    model.add(Dense(num_classes, activation='softmax'))\n",
    "\n",
    "    model.compile(loss=categorical_crossentropy,\n",
    "                  optimizer=Nadam(),\n",
    "                  metrics=['accuracy'])\n",
    "\n",
    "    model.fit(X_train, y_train,\n",
    "              batch_size=batch_size,\n",
    "              epochs=epochs,\n",
    "              verbose=1,\n",
    "              validation_data=(X_val, y_val))\n",
    "\n",
    "    test_score = model.evaluate(X_test, y_test, verbose=0)\n",
    "    print('Test loss:', test_score[0])\n",
    "    print('Test accuracy:', test_score[1])\n",
    "    \n",
    "    val_score = model.evaluate(X_val, y_val, verbose=0)\n",
    "    print('Val loss:', val_score[0])\n",
    "    print('Val accuracy:', val_score[1])"
   ]
  },
  {
   "cell_type": "code",
   "execution_count": 61,
   "metadata": {},
   "outputs": [
    {
     "name": "stdout",
     "output_type": "stream",
     "text": [
      "_________________________________________________________________\n",
      "Layer (type)                 Output Shape              Param #   \n",
      "=================================================================\n",
      "cropping2d_53 (Cropping2D)   (None, 1, 28, 76)         0         \n",
      "_________________________________________________________________\n",
      "conv2d_103 (Conv2D)          (None, 4, 26, 74)         40        \n",
      "_________________________________________________________________\n",
      "max_pooling2d_49 (MaxPooling (None, 4, 13, 18)         0         \n",
      "_________________________________________________________________\n",
      "conv2d_104 (Conv2D)          (None, 48, 13, 18)        240       \n",
      "_________________________________________________________________\n",
      "flatten_53 (Flatten)         (None, 11232)             0         \n",
      "_________________________________________________________________\n",
      "dense_104 (Dense)            (None, 10)                112330    \n",
      "_________________________________________________________________\n",
      "dense_105 (Dense)            (None, 10)                110       \n",
      "_________________________________________________________________\n",
      "dense_106 (Dense)            (None, 2)                 22        \n",
      "=================================================================\n",
      "Total params: 112,742\n",
      "Trainable params: 112,742\n",
      "Non-trainable params: 0\n",
      "_________________________________________________________________\n"
     ]
    }
   ],
   "source": [
    "model.summary()"
   ]
  },
  {
   "cell_type": "code",
   "execution_count": null,
   "metadata": {
    "collapsed": true
   },
   "outputs": [],
   "source": []
  }
 ],
 "metadata": {
  "kernelspec": {
   "display_name": "Python 3",
   "language": "python",
   "name": "python3"
  },
  "language_info": {
   "codemirror_mode": {
    "name": "ipython",
    "version": 3
   },
   "file_extension": ".py",
   "mimetype": "text/x-python",
   "name": "python",
   "nbconvert_exporter": "python",
   "pygments_lexer": "ipython3",
   "version": "3.5.2"
  }
 },
 "nbformat": 4,
 "nbformat_minor": 2
}
